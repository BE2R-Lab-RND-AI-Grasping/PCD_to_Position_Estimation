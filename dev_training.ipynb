{
 "cells": [
  {
   "cell_type": "code",
   "execution_count": 2,
   "id": "592d35eb",
   "metadata": {},
   "outputs": [
    {
     "data": {
      "text/plain": [
       "5"
      ]
     },
     "execution_count": 2,
     "metadata": {},
     "output_type": "execute_result"
    }
   ],
   "source": [
    "import torch \n",
    "from torch.utils.data import DataLoader\n",
    "from src import full_pcd_dataset\n",
    "import importlib\n",
    "importlib.reload(full_pcd_dataset)\n",
    "import json\n",
    "# Create dataset instance\n",
    "dataset = full_pcd_dataset.FullPCDDataset(\"full_pcd_30000_samples.npz\")\n",
    "with open(\"label_dict.json\", \"r\") as f:\n",
    "    label_dict = json.load(f)\n",
    "num_classes = len(label_dict.keys())\n",
    "# Split into train and validation (example: 80-20 split)\n",
    "train_size = int(0.8 * len(dataset))\n",
    "val_size = len(dataset) - train_size\n",
    "train_dataset, val_dataset = torch.utils.data.random_split(dataset, [train_size, val_size])\n",
    "\n",
    "# Create data loaders\n",
    "batch_size = 32\n",
    "train_loader = DataLoader(train_dataset, batch_size=batch_size, shuffle=True, num_workers=4)\n",
    "val_loader = DataLoader(val_dataset, batch_size=batch_size, shuffle=False, num_workers=4)\n",
    "num_classes"
   ]
  },
  {
   "cell_type": "code",
   "execution_count": 3,
   "id": "cebb888a",
   "metadata": {},
   "outputs": [
    {
     "data": {
      "text/plain": [
       "tensor(1)"
      ]
     },
     "execution_count": 3,
     "metadata": {},
     "output_type": "execute_result"
    }
   ],
   "source": [
    "train_dataset[0][1][0]"
   ]
  },
  {
   "cell_type": "code",
   "execution_count": 4,
   "id": "c971adcf",
   "metadata": {},
   "outputs": [],
   "source": [
    "from src.model import PoseWithClassModel\n",
    "\n",
    "model = PoseWithClassModel(num_classes)\n",
    "optimizer = torch.optim.Adam(model.parameters(), lr=1e-3)"
   ]
  },
  {
   "cell_type": "code",
   "execution_count": 5,
   "id": "31f102a5",
   "metadata": {},
   "outputs": [
    {
     "name": "stdout",
     "output_type": "stream",
     "text": [
      "Epoch 1/15 - Total Loss: 1092.3025 - Cls: 596.8071 - Pose: 495.4954\n",
      "Validation - Loss: 4.5852 | Cls Loss: 747.9843 | Pose Loss: 114.0251 | Accuracy: 24.12%\n",
      "Epoch 2/15 - Total Loss: 696.6442 - Cls: 227.6527 - Pose: 468.9915\n",
      "Validation - Loss: 1.2804 | Cls Loss: 125.8268 | Pose Loss: 114.8932 | Accuracy: 76.13%\n",
      "Epoch 3/15 - Total Loss: 631.6485 - Cls: 172.3029 - Pose: 459.3456\n",
      "Validation - Loss: 0.9320 | Cls Loss: 65.6754 | Pose Loss: 109.5449 | Accuracy: 85.22%\n",
      "Epoch 4/15 - Total Loss: 608.2617 - Cls: 152.1085 - Pose: 456.1532\n",
      "Validation - Loss: 0.9708 | Cls Loss: 68.0930 | Pose Loss: 114.4264 | Accuracy: 84.55%\n",
      "Epoch 5/15 - Total Loss: 578.9013 - Cls: 124.9336 - Pose: 453.9677\n",
      "Validation - Loss: 1.3359 | Cls Loss: 138.8635 | Pose Loss: 112.2833 | Accuracy: 72.93%\n"
     ]
    },
    {
     "ename": "KeyboardInterrupt",
     "evalue": "",
     "output_type": "error",
     "traceback": [
      "\u001b[0;31m---------------------------------------------------------------------------\u001b[0m",
      "\u001b[0;31mKeyboardInterrupt\u001b[0m                         Traceback (most recent call last)",
      "Cell \u001b[0;32mIn[5], line 3\u001b[0m\n\u001b[1;32m      1\u001b[0m \u001b[38;5;28;01mfrom\u001b[39;00m\u001b[38;5;250m \u001b[39m\u001b[38;5;21;01msrc\u001b[39;00m\u001b[38;5;21;01m.\u001b[39;00m\u001b[38;5;21;01mtrain_utils\u001b[39;00m\u001b[38;5;250m \u001b[39m\u001b[38;5;28;01mimport\u001b[39;00m train_model\n\u001b[1;32m      2\u001b[0m device \u001b[38;5;241m=\u001b[39m torch\u001b[38;5;241m.\u001b[39mdevice(\u001b[38;5;124m\"\u001b[39m\u001b[38;5;124mcuda\u001b[39m\u001b[38;5;124m\"\u001b[39m \u001b[38;5;28;01mif\u001b[39;00m torch\u001b[38;5;241m.\u001b[39mcuda\u001b[38;5;241m.\u001b[39mis_available() \u001b[38;5;28;01melse\u001b[39;00m \u001b[38;5;124m\"\u001b[39m\u001b[38;5;124mcpu\u001b[39m\u001b[38;5;124m\"\u001b[39m)\n\u001b[0;32m----> 3\u001b[0m \u001b[43mtrain_model\u001b[49m\u001b[43m(\u001b[49m\u001b[43mmodel\u001b[49m\u001b[43m,\u001b[49m\u001b[43m \u001b[49m\u001b[43mtrain_loader\u001b[49m\u001b[43m,\u001b[49m\u001b[43m \u001b[49m\u001b[43mval_loader\u001b[49m\u001b[43m,\u001b[49m\u001b[43m \u001b[49m\u001b[43moptimizer\u001b[49m\u001b[43m,\u001b[49m\u001b[43m \u001b[49m\u001b[43mdevice\u001b[49m\u001b[43m,\u001b[49m\u001b[43m \u001b[49m\u001b[43mepochs\u001b[49m\u001b[38;5;241;43m=\u001b[39;49m\u001b[38;5;241;43m15\u001b[39;49m\u001b[43m)\u001b[49m\n",
      "File \u001b[0;32m~/Python/functional_grasp/PCD_to_Position_Estimation/src/train_utils.py:101\u001b[0m, in \u001b[0;36mtrain_model\u001b[0;34m(model, train_loader, val_loader, optimizer, device, epochs, alpha, beta)\u001b[0m\n\u001b[1;32m     98\u001b[0m class_logits, pred_pose \u001b[38;5;241m=\u001b[39m model(point_clouds)\n\u001b[1;32m    100\u001b[0m pred_translation \u001b[38;5;241m=\u001b[39m pred_pose[:, :\u001b[38;5;241m3\u001b[39m]\n\u001b[0;32m--> 101\u001b[0m pred_quaternion \u001b[38;5;241m=\u001b[39m pred_pose[:, \u001b[38;5;241m3\u001b[39m:]\n\u001b[1;32m    103\u001b[0m cls_loss \u001b[38;5;241m=\u001b[39m F\u001b[38;5;241m.\u001b[39mcross_entropy(class_logits, class_labels)\n\u001b[1;32m    104\u001b[0m trans_loss \u001b[38;5;241m=\u001b[39m F\u001b[38;5;241m.\u001b[39mmse_loss(pred_translation, gt_translation)\n",
      "\u001b[0;31mKeyboardInterrupt\u001b[0m: "
     ]
    }
   ],
   "source": [
    "from src.train_utils import train_model\n",
    "device = torch.device(\"cuda\" if torch.cuda.is_available() else \"cpu\")\n",
    "train_model(model, train_loader, val_loader, optimizer, device, epochs=15)"
   ]
  },
  {
   "cell_type": "code",
   "execution_count": null,
   "id": "0571417e",
   "metadata": {},
   "outputs": [],
   "source": []
  }
 ],
 "metadata": {
  "kernelspec": {
   "display_name": "point_cloud",
   "language": "python",
   "name": "python3"
  },
  "language_info": {
   "codemirror_mode": {
    "name": "ipython",
    "version": 3
   },
   "file_extension": ".py",
   "mimetype": "text/x-python",
   "name": "python",
   "nbconvert_exporter": "python",
   "pygments_lexer": "ipython3",
   "version": "3.9.21"
  }
 },
 "nbformat": 4,
 "nbformat_minor": 5
}
