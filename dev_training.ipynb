{
 "cells": [
  {
   "cell_type": "code",
   "execution_count": null,
   "id": "592d35eb",
   "metadata": {},
   "outputs": [],
   "source": [
    "import torch \n",
    "from torch.utils.data import DataLoader\n",
    "from src import full_pcd_dataset\n",
    "import importlib\n",
    "importlib.reload(full_pcd_dataset)\n",
    "import json\n",
    "# Create dataset instance\n",
    "dataset = full_pcd_dataset.FullPCDDataset(\"data/full_pcd_100000_samples_6d.npz\")\n",
    "with open(\"data/label_dict.json\", \"r\") as f:\n",
    "    label_dict = json.load(f)\n",
    "num_classes = len(label_dict.keys())\n",
    "# Split into train and validation (example: 80-20 split)\n",
    "train_size = int(0.8 * len(dataset))\n",
    "val_size = len(dataset) - train_size\n",
    "train_dataset, val_dataset = torch.utils.data.random_split(dataset, [train_size, val_size])\n",
    "\n",
    "# Create data loaders\n",
    "batch_size = 128\n",
    "train_loader = DataLoader(train_dataset, batch_size=batch_size, shuffle=True, num_workers=8,pin_memory=True)\n",
    "val_loader = DataLoader(val_dataset, batch_size=batch_size, shuffle=False, num_workers=8,pin_memory=True)\n",
    "num_classes"
   ]
  },
  {
   "cell_type": "code",
   "execution_count": null,
   "id": "cebb888a",
   "metadata": {},
   "outputs": [],
   "source": [
    "train_dataset[0][1][0]"
   ]
  },
  {
   "cell_type": "code",
   "execution_count": null,
   "id": "c971adcf",
   "metadata": {},
   "outputs": [],
   "source": [
    "from src.model import PoseWithClassModel\n",
    "from src.model_classification import ClassificationModel \n",
    "from torch.optim.lr_scheduler import StepLR\n",
    "model = ClassificationModel(num_classes)\n",
    "optimizer = torch.optim.Adam(model.parameters(), lr=1e-3)\n",
    "scheduler = StepLR(optimizer, step_size=5, gamma=0.5) "
   ]
  },
  {
   "cell_type": "code",
   "execution_count": null,
   "id": "31f102a5",
   "metadata": {},
   "outputs": [],
   "source": [
    "# from src.train_utils import train_model\n",
    "from src.train_classificator import train_model\n",
    "device = torch.device(\"cuda\" if torch.cuda.is_available() else \"cpu\")\n",
    "print(f\"Using device: {device}\")"
   ]
  },
  {
   "cell_type": "code",
   "execution_count": null,
   "id": "58e0fb9e",
   "metadata": {},
   "outputs": [],
   "source": [
    "train_model(model, train_loader, val_loader, optimizer, scheduler, device, epochs=30, directory=\"new_run_nbn\")"
   ]
  },
  {
   "cell_type": "code",
   "execution_count": null,
   "id": "83616956",
   "metadata": {},
   "outputs": [],
   "source": [
    "model"
   ]
  },
  {
   "cell_type": "code",
   "execution_count": null,
   "id": "0571417e",
   "metadata": {},
   "outputs": [],
   "source": [
    "# one_pcd = dataset[2][0]\n",
    "\n",
    "# model.eval()\n",
    "# with torch.no_grad():\n",
    "#     # Move the point cloud to the same device as the model\n",
    "#     one_pcd = one_pcd.to(device)\n",
    "#     # Forward pass through the model\n",
    "#     # Note: Add batch dimension\n",
    "#     class_logits, pred_pose = model(one_pcd.unsqueeze(0).to(device))\n",
    "# one_pcd = o3d.geometry.PointCloud(o3d.utility.Vector3dVector(one_pcd.cpu().numpy()))\n",
    "# one_pcd.paint_uniform_color([0.5, 0.5, 0.5])"
   ]
  },
  {
   "cell_type": "code",
   "execution_count": null,
   "id": "f9f1d224",
   "metadata": {},
   "outputs": [],
   "source": [
    "def check_model_classification(model, dataset, idx, device):\n",
    "    model.eval()\n",
    "    with torch.no_grad():\n",
    "        pcd = dataset[idx][0]\n",
    "        gt_class = dataset[idx][1][0]\n",
    "        # Forward pass through the model\n",
    "        # Note: Add batch dimension\n",
    "        class_logits= model(pcd.unsqueeze(0).to(device))\n",
    "        preds = class_logits.argmax(dim=1).squeeze(0).cpu().numpy()\n",
    "        \n",
    "        print(f\"Predicted class logits: {class_logits}\")\n",
    "        print(f\"Predicted class: {preds}\")\n",
    "        print(f\"Ground truth class: {gt_class}\")\n"
   ]
  },
  {
   "cell_type": "code",
   "execution_count": null,
   "id": "2fde0b62",
   "metadata": {},
   "outputs": [],
   "source": [
    "import numpy as np\n",
    "val_dataset[:][1][0].numpy()\n",
    "\n",
    "np.histogram(val_dataset[:][1][0].numpy(), bins=5)"
   ]
  },
  {
   "cell_type": "code",
   "execution_count": null,
   "id": "46f74c97",
   "metadata": {},
   "outputs": [],
   "source": [
    "for i in range(20,30):\n",
    "    check_model_classification(model, val_dataset, i, device)"
   ]
  },
  {
   "cell_type": "code",
   "execution_count": null,
   "id": "04a49e7a",
   "metadata": {},
   "outputs": [],
   "source": [
    "from pathlib import Path\n",
    "import open3d as o3d\n",
    "import numpy as np\n",
    "from src.train_utils import rot6d_to_matrix, geodesic_loss_numpy, rot6d_to_matrix_numpy\n",
    "model_dir = Path(\"./data/models\")\n",
    "model_list = list(model_dir.glob(\"*\"))\n",
    "\n",
    "def check_model_on_instance(model, dataset, idx, device, paths):\n",
    "    pcd = dataset[idx][0]\n",
    "    gt_class = dataset[idx][1][0]\n",
    "    gt_rotation_6d = dataset[idx][1][1]\n",
    "    gt_rotation = rot6d_to_matrix(gt_rotation_6d)\n",
    "    gt_translation = dataset[idx][1][2]\n",
    "    gt_pcd = o3d.geometry.PointCloud(o3d.utility.Vector3dVector(pcd))\n",
    "    \n",
    "    model.eval()\n",
    "    with torch.no_grad():\n",
    "        # Move the point cloud to the same device as the model\n",
    "        pcd = pcd.to(device)\n",
    "        # Forward pass through the model\n",
    "        # Note: Add batch dimension\n",
    "        class_logits, pred_pose = model(pcd.unsqueeze(0).to(device))\n",
    "        preds = class_logits.argmax(dim=1)\n",
    "        model_path = paths[preds.item()]\n",
    "        print(f\"Predicted class: {preds.item()}\", \n",
    "              f\"GT class: {gt_class.item()}\")\n",
    "        print(f\"Model path: {model_path}\")\n",
    "    pcd_predicted = o3d.io.read_triangle_mesh(model_path)\n",
    "    pcd_predicted.paint_uniform_color([1, 0, 0])  # Red color for predicted model\n",
    "    predicted_rotation_6d = pred_pose[:, 3:]\n",
    "    rotation = rot6d_to_matrix(predicted_rotation_6d)[0].cpu().numpy()\n",
    "\n",
    "    translation = pred_pose[0, :3].cpu().numpy()\n",
    "    transformation = np.vstack((np.array([0,0,0,1]),np.hstack((rotation, translation.reshape(3, 1)))))\n",
    "\n",
    "    # predicted_quaternion = pred_pose[0, 3:].cpu().numpy()\n",
    "\n",
    "    # q1, q2, q3, q4 = predicted_quaternion/np.linalg.norm(predicted_quaternion)\n",
    "    # print(np.linalg.norm(np.array([q1, q2, q3, q4])))\n",
    "    # x, y, z = pred_pose[0, :3].cpu().numpy()\n",
    "    # # Convert quaternion to rotation matrix\n",
    "    # T = np.array([\n",
    "    #     [1 - 2*(q3**2 + q4**2),     2*(q2*q3 - q1*q4),\n",
    "    #         2*(q2*q4 + q1*q3), x],\n",
    "    #     [2*(q2*q3 + q1*q4), 1 - 2*(q2**2 + q4**2),     2*(q3*q4 - q1*q2), y],\n",
    "    #     [2*(q2*q4 - q1*q3),     2*(q3*q4 + q1*q2), 1 - 2*(q2**2 + q3**2), z],\n",
    "    #     [0, 0, 0, 1]\n",
    "    # ])\n",
    "    pcd_predicted.transform(transformation)\n",
    "    translation_diff = translation- gt_translation.numpy()\n",
    "    print(f\"Translation diff: {translation_diff}\")\n",
    "    translation_error = sum(translation - gt_translation.cpu().numpy())**2)/3\n",
    "    print(f\"Translation error: {translation_error}\")\n",
    "    # rotation_error = 1 - np.dot(predicted_quaternion, gt_rotation_quaternion)\n",
    "    rotation_error = geodesic_loss_numpy(rotation, gt_rotation)\n",
    "    print(f\"Rotation error: {rotation_error}\")\n",
    "    # Visualize the point cloud and the predicted model\n",
    "    o3d.visualization.draw_geometries([pcd_predicted, gt_pcd])\n"
   ]
  },
  {
   "cell_type": "code",
   "execution_count": null,
   "id": "0b733963",
   "metadata": {},
   "outputs": [],
   "source": [
    "import numpy as np\n",
    "rot = np.eye(3)\n",
    "translation = np.array([0, 0, 1])\n",
    "np.hstack((rot, translation.reshape(-1, 1)))"
   ]
  },
  {
   "cell_type": "code",
   "execution_count": null,
   "id": "7be17c9b",
   "metadata": {},
   "outputs": [],
   "source": [
    "translation"
   ]
  },
  {
   "cell_type": "code",
   "execution_count": null,
   "id": "e59afc1a",
   "metadata": {},
   "outputs": [],
   "source": [
    "check_model_on_instance(model, train_dataset, 0, device, model_list)"
   ]
  },
  {
   "cell_type": "code",
   "execution_count": null,
   "id": "64f273ed",
   "metadata": {},
   "outputs": [],
   "source": [
    "preds = class_logits.argmax(dim=1)\n",
    "preds.item()"
   ]
  },
  {
   "cell_type": "code",
   "execution_count": null,
   "id": "16a677fd",
   "metadata": {},
   "outputs": [],
   "source": [
    "\n",
    "\n",
    "\n",
    "model_path = model_list[preds.item()]"
   ]
  },
  {
   "cell_type": "code",
   "execution_count": null,
   "id": "59bd57de",
   "metadata": {},
   "outputs": [],
   "source": [
    "q1, q2, q3, q4 = pred_pose[0, 3:].cpu().numpy()\n",
    "print(q1, q2, q3, q4)"
   ]
  },
  {
   "cell_type": "code",
   "execution_count": null,
   "id": "511671c0",
   "metadata": {},
   "outputs": [],
   "source": [
    "\n",
    "pcd_predicted = o3d.io.read_triangle_mesh(model_path)\n",
    "pcd_predicted.paint_uniform_color([1, 0, 0])  # Red color for predicted model\n",
    "translation = pred_pose[0, :3].cpu().numpy()\n",
    "rotation = pred_pose[0, 3:].cpu().numpy()\n",
    "pcd_predicted.rotate(pcd_predicted.get_rotation_matrix_from_quaternion(rotation))\n",
    "pcd_predicted.translate(translation)\n",
    "\n",
    "pcd_predicted"
   ]
  },
  {
   "cell_type": "code",
   "execution_count": null,
   "id": "5d432c10",
   "metadata": {},
   "outputs": [],
   "source": [
    "((dataset[2][1][2] - translation)**2).sum()/3"
   ]
  },
  {
   "cell_type": "code",
   "execution_count": null,
   "id": "6c29eaa0",
   "metadata": {},
   "outputs": [],
   "source": [
    "import numpy as np\n",
    "print(dataset[2][1][1], rotation/np.linalg.norm(rotation))\n",
    "1-np.dot(dataset[2][1][1], rotation/np.linalg.norm(rotation))"
   ]
  },
  {
   "cell_type": "code",
   "execution_count": null,
   "id": "c39a174f",
   "metadata": {},
   "outputs": [],
   "source": [
    "np.linalg.norm(dataset[1][1][1])"
   ]
  },
  {
   "cell_type": "code",
   "execution_count": null,
   "id": "a50eb44c",
   "metadata": {},
   "outputs": [],
   "source": [
    "o3d.visualization.draw_geometries([pcd_predicted, one_pcd])"
   ]
  }
 ],
 "metadata": {
  "kernelspec": {
   "display_name": "point_cloud",
   "language": "python",
   "name": "python3"
  },
  "language_info": {
   "codemirror_mode": {
    "name": "ipython",
    "version": 3
   },
   "file_extension": ".py",
   "mimetype": "text/x-python",
   "name": "python",
   "nbconvert_exporter": "python",
   "pygments_lexer": "ipython3",
   "version": "3.12.9"
  }
 },
 "nbformat": 4,
 "nbformat_minor": 5
}
