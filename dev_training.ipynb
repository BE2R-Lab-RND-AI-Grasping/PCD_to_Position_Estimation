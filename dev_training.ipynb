{
 "cells": [
  {
   "cell_type": "code",
   "execution_count": 2,
   "id": "592d35eb",
   "metadata": {},
   "outputs": [
    {
     "name": "stdout",
     "output_type": "stream",
     "text": [
      "Jupyter environment detected. Enabling Open3D WebVisualizer.\n",
      "[Open3D INFO] WebRTC GUI backend enabled.\n",
      "[Open3D INFO] WebRTCWindowSystem: HTTP handshake server disabled.\n"
     ]
    },
    {
     "data": {
      "text/plain": [
       "5"
      ]
     },
     "execution_count": 2,
     "metadata": {},
     "output_type": "execute_result"
    }
   ],
   "source": [
    "import torch \n",
    "from torch.utils.data import DataLoader\n",
    "from src import full_pcd_dataset\n",
    "import importlib\n",
    "importlib.reload(full_pcd_dataset)\n",
    "import json\n",
    "# Create dataset instance\n",
    "dataset = full_pcd_dataset.FullPCDDataset(\"full_pcd_30000_samples.npz\")\n",
    "with open(\"label_dict.json\", \"r\") as f:\n",
    "    label_dict = json.load(f)\n",
    "num_classes = len(label_dict.keys())\n",
    "# Split into train and validation (example: 80-20 split)\n",
    "train_size = int(0.8 * len(dataset))\n",
    "val_size = len(dataset) - train_size\n",
    "train_dataset, val_dataset = torch.utils.data.random_split(dataset, [train_size, val_size])\n",
    "\n",
    "# Create data loaders\n",
    "batch_size = 128\n",
    "train_loader = DataLoader(train_dataset, batch_size=batch_size, shuffle=True, num_workers=8)\n",
    "val_loader = DataLoader(val_dataset, batch_size=batch_size, shuffle=False, num_workers=8)\n",
    "num_classes"
   ]
  },
  {
   "cell_type": "code",
   "execution_count": 3,
   "id": "cebb888a",
   "metadata": {},
   "outputs": [
    {
     "data": {
      "text/plain": [
       "tensor(3)"
      ]
     },
     "execution_count": 3,
     "metadata": {},
     "output_type": "execute_result"
    }
   ],
   "source": [
    "train_dataset[0][1][0]"
   ]
  },
  {
   "cell_type": "code",
   "execution_count": 4,
   "id": "c971adcf",
   "metadata": {},
   "outputs": [],
   "source": [
    "from src.model import PoseWithClassModel\n",
    "\n",
    "model = PoseWithClassModel(num_classes)\n",
    "optimizer = torch.optim.Adam(model.parameters(), lr=1e-3)"
   ]
  },
  {
   "cell_type": "code",
   "execution_count": 5,
   "id": "31f102a5",
   "metadata": {},
   "outputs": [
    {
     "name": "stdout",
     "output_type": "stream",
     "text": [
      "Epoch 1/30 - Total Loss: 368.2920 - Cls: 249.1343 - Pose: 119.1577\n",
      "Validation - Loss: 1.9104 | Cls Loss: 61.1151 | Pose Loss: 28.6754 | Accuracy: 46.80%\n",
      "Epoch 2/30 - Total Loss: 188.3615 - Cls: 73.8604 - Pose: 114.5011\n",
      "Validation - Loss: 0.9655 | Cls Loss: 17.7216 | Pose Loss: 27.6550 | Accuracy: 80.52%\n",
      "Epoch 3/30 - Total Loss: 151.0875 - Cls: 38.2528 - Pose: 112.8346\n",
      "Validation - Loss: 0.7558 | Cls Loss: 7.1984 | Pose Loss: 28.3222 | Accuracy: 93.87%\n",
      "Epoch 4/30 - Total Loss: 140.3783 - Cls: 28.2878 - Pose: 112.0905\n",
      "Validation - Loss: 0.6743 | Cls Loss: 3.6823 | Pose Loss: 28.0099 | Accuracy: 97.10%\n",
      "Epoch 5/30 - Total Loss: 133.2226 - Cls: 22.1866 - Pose: 111.0360\n",
      "Validation - Loss: 0.6813 | Cls Loss: 3.5580 | Pose Loss: 28.4631 | Accuracy: 96.85%\n",
      "Epoch 6/30 - Total Loss: 124.2926 - Cls: 13.5663 - Pose: 110.7263\n",
      "Validation - Loss: 0.5948 | Cls Loss: 0.9677 | Pose Loss: 26.9872 | Accuracy: 99.45%\n",
      "Epoch 7/30 - Total Loss: 116.0715 - Cls: 7.1116 - Pose: 108.9599\n",
      "Validation - Loss: 0.5838 | Cls Loss: 0.4617 | Pose Loss: 26.9792 | Accuracy: 99.78%\n",
      "Epoch 8/30 - Total Loss: 111.0035 - Cls: 5.0276 - Pose: 105.9759\n",
      "Validation - Loss: 0.5622 | Cls Loss: 0.3544 | Pose Loss: 26.0677 | Accuracy: 99.82%\n",
      "Epoch 9/30 - Total Loss: 107.9737 - Cls: 4.5523 - Pose: 103.4214\n",
      "Validation - Loss: 0.7867 | Cls Loss: 11.2551 | Pose Loss: 25.7187 | Accuracy: 93.70%\n",
      "Epoch 10/30 - Total Loss: 102.1950 - Cls: 2.3960 - Pose: 99.7990\n",
      "Validation - Loss: 0.5887 | Cls Loss: 2.7882 | Pose Loss: 24.8787 | Accuracy: 97.67%\n",
      "Epoch 11/30 - Total Loss: 97.5665 - Cls: 4.0522 - Pose: 93.5143\n",
      "Validation - Loss: 0.5616 | Cls Loss: 1.4613 | Pose Loss: 24.9326 | Accuracy: 98.90%\n",
      "Epoch 12/30 - Total Loss: 90.6592 - Cls: 2.1493 - Pose: 88.5100\n",
      "Validation - Loss: 0.4951 | Cls Loss: 0.3916 | Pose Loss: 22.8764 | Accuracy: 99.65%\n",
      "Epoch 13/30 - Total Loss: 85.6664 - Cls: 1.3443 - Pose: 84.3221\n",
      "Validation - Loss: 0.4950 | Cls Loss: 2.2654 | Pose Loss: 20.9988 | Accuracy: 98.30%\n",
      "Epoch 14/30 - Total Loss: 83.5870 - Cls: 2.7473 - Pose: 80.8398\n",
      "Validation - Loss: 0.4171 | Cls Loss: 0.0331 | Pose Loss: 19.5729 | Accuracy: 100.00%\n",
      "Epoch 15/30 - Total Loss: 75.6350 - Cls: 0.7967 - Pose: 74.8383\n",
      "Validation - Loss: 0.3981 | Cls Loss: 0.0510 | Pose Loss: 18.6602 | Accuracy: 99.97%\n",
      "Epoch 16/30 - Total Loss: 72.3478 - Cls: 0.9862 - Pose: 71.3616\n",
      "Validation - Loss: 0.4142 | Cls Loss: 0.5648 | Pose Loss: 18.9036 | Accuracy: 99.50%\n",
      "Epoch 17/30 - Total Loss: 67.0140 - Cls: 0.6712 - Pose: 66.3428\n",
      "Validation - Loss: 0.3346 | Cls Loss: 0.0245 | Pose Loss: 15.7024 | Accuracy: 99.98%\n",
      "Epoch 18/30 - Total Loss: 62.9560 - Cls: 0.2847 - Pose: 62.6713\n",
      "Validation - Loss: 0.3236 | Cls Loss: 0.0271 | Pose Loss: 15.1838 | Accuracy: 99.98%\n",
      "Epoch 19/30 - Total Loss: 61.6700 - Cls: 1.0675 - Pose: 60.6024\n",
      "Validation - Loss: 0.3510 | Cls Loss: 0.0425 | Pose Loss: 16.4557 | Accuracy: 99.98%\n",
      "Epoch 20/30 - Total Loss: 58.9909 - Cls: 0.3000 - Pose: 58.6909\n",
      "Validation - Loss: 0.3558 | Cls Loss: 0.3030 | Pose Loss: 16.4179 | Accuracy: 99.78%\n",
      "Epoch 21/30 - Total Loss: 53.8796 - Cls: 0.1539 - Pose: 53.7257\n",
      "Validation - Loss: 0.3077 | Cls Loss: 0.0281 | Pose Loss: 14.4338 | Accuracy: 100.00%\n",
      "Epoch 22/30 - Total Loss: 52.3223 - Cls: 0.5560 - Pose: 51.7662\n",
      "Validation - Loss: 0.2998 | Cls Loss: 0.1275 | Pose Loss: 13.9622 | Accuracy: 99.90%\n"
     ]
    },
    {
     "ename": "KeyboardInterrupt",
     "evalue": "",
     "output_type": "error",
     "traceback": [
      "\u001b[31m---------------------------------------------------------------------------\u001b[39m",
      "\u001b[31mKeyboardInterrupt\u001b[39m                         Traceback (most recent call last)",
      "\u001b[36mCell\u001b[39m\u001b[36m \u001b[39m\u001b[32mIn[5]\u001b[39m\u001b[32m, line 3\u001b[39m\n\u001b[32m      1\u001b[39m \u001b[38;5;28;01mfrom\u001b[39;00m\u001b[38;5;250m \u001b[39m\u001b[34;01msrc\u001b[39;00m\u001b[34;01m.\u001b[39;00m\u001b[34;01mtrain_utils\u001b[39;00m\u001b[38;5;250m \u001b[39m\u001b[38;5;28;01mimport\u001b[39;00m train_model\n\u001b[32m      2\u001b[39m device = torch.device(\u001b[33m\"\u001b[39m\u001b[33mcuda\u001b[39m\u001b[33m\"\u001b[39m \u001b[38;5;28;01mif\u001b[39;00m torch.cuda.is_available() \u001b[38;5;28;01melse\u001b[39;00m \u001b[33m\"\u001b[39m\u001b[33mcpu\u001b[39m\u001b[33m\"\u001b[39m)\n\u001b[32m----> \u001b[39m\u001b[32m3\u001b[39m \u001b[43mtrain_model\u001b[49m\u001b[43m(\u001b[49m\u001b[43mmodel\u001b[49m\u001b[43m,\u001b[49m\u001b[43m \u001b[49m\u001b[43mtrain_loader\u001b[49m\u001b[43m,\u001b[49m\u001b[43m \u001b[49m\u001b[43mval_loader\u001b[49m\u001b[43m,\u001b[49m\u001b[43m \u001b[49m\u001b[43moptimizer\u001b[49m\u001b[43m,\u001b[49m\u001b[43m \u001b[49m\u001b[43mdevice\u001b[49m\u001b[43m,\u001b[49m\u001b[43m \u001b[49m\u001b[43mepochs\u001b[49m\u001b[43m=\u001b[49m\u001b[32;43m30\u001b[39;49m\u001b[43m)\u001b[49m\n",
      "\u001b[36mFile \u001b[39m\u001b[32md:\\work\\projects\\FunctionalGrasp\\PCD_to_Position_Estimation\\src\\train_utils.py:86\u001b[39m, in \u001b[36mtrain_model\u001b[39m\u001b[34m(model, train_loader, val_loader, optimizer, device, epochs, alpha, beta)\u001b[39m\n\u001b[32m     79\u001b[39m \u001b[38;5;66;03m# point_clouds = batch['points'].to(device)            # (B, N, 3)\u001b[39;00m\n\u001b[32m     80\u001b[39m \u001b[38;5;66;03m# class_labels = batch['class_label'].to(device)       # (B,)\u001b[39;00m\n\u001b[32m     81\u001b[39m \u001b[38;5;66;03m# gt_translation = batch['translation'].to(device)     # (B, 3)\u001b[39;00m\n\u001b[32m     82\u001b[39m \u001b[38;5;66;03m# gt_quaternion = batch['quaternion'].to(device)       # (B, 4)\u001b[39;00m\n\u001b[32m     84\u001b[39m optimizer.zero_grad()\n\u001b[32m---> \u001b[39m\u001b[32m86\u001b[39m class_logits, pred_pose = \u001b[43mmodel\u001b[49m\u001b[43m(\u001b[49m\u001b[43mpoint_clouds\u001b[49m\u001b[43m)\u001b[49m\n\u001b[32m     88\u001b[39m pred_translation = pred_pose[:, :\u001b[32m3\u001b[39m]\n\u001b[32m     89\u001b[39m pred_quaternion = pred_pose[:, \u001b[32m3\u001b[39m:]\n",
      "\u001b[36mFile \u001b[39m\u001b[32md:\\Anaconda\\envs\\point_cloud\\Lib\\site-packages\\torch\\nn\\modules\\module.py:1739\u001b[39m, in \u001b[36mModule._wrapped_call_impl\u001b[39m\u001b[34m(self, *args, **kwargs)\u001b[39m\n\u001b[32m   1737\u001b[39m     \u001b[38;5;28;01mreturn\u001b[39;00m \u001b[38;5;28mself\u001b[39m._compiled_call_impl(*args, **kwargs)  \u001b[38;5;66;03m# type: ignore[misc]\u001b[39;00m\n\u001b[32m   1738\u001b[39m \u001b[38;5;28;01melse\u001b[39;00m:\n\u001b[32m-> \u001b[39m\u001b[32m1739\u001b[39m     \u001b[38;5;28;01mreturn\u001b[39;00m \u001b[38;5;28;43mself\u001b[39;49m\u001b[43m.\u001b[49m\u001b[43m_call_impl\u001b[49m\u001b[43m(\u001b[49m\u001b[43m*\u001b[49m\u001b[43margs\u001b[49m\u001b[43m,\u001b[49m\u001b[43m \u001b[49m\u001b[43m*\u001b[49m\u001b[43m*\u001b[49m\u001b[43mkwargs\u001b[49m\u001b[43m)\u001b[49m\n",
      "\u001b[36mFile \u001b[39m\u001b[32md:\\Anaconda\\envs\\point_cloud\\Lib\\site-packages\\torch\\nn\\modules\\module.py:1750\u001b[39m, in \u001b[36mModule._call_impl\u001b[39m\u001b[34m(self, *args, **kwargs)\u001b[39m\n\u001b[32m   1745\u001b[39m \u001b[38;5;66;03m# If we don't have any hooks, we want to skip the rest of the logic in\u001b[39;00m\n\u001b[32m   1746\u001b[39m \u001b[38;5;66;03m# this function, and just call forward.\u001b[39;00m\n\u001b[32m   1747\u001b[39m \u001b[38;5;28;01mif\u001b[39;00m \u001b[38;5;129;01mnot\u001b[39;00m (\u001b[38;5;28mself\u001b[39m._backward_hooks \u001b[38;5;129;01mor\u001b[39;00m \u001b[38;5;28mself\u001b[39m._backward_pre_hooks \u001b[38;5;129;01mor\u001b[39;00m \u001b[38;5;28mself\u001b[39m._forward_hooks \u001b[38;5;129;01mor\u001b[39;00m \u001b[38;5;28mself\u001b[39m._forward_pre_hooks\n\u001b[32m   1748\u001b[39m         \u001b[38;5;129;01mor\u001b[39;00m _global_backward_pre_hooks \u001b[38;5;129;01mor\u001b[39;00m _global_backward_hooks\n\u001b[32m   1749\u001b[39m         \u001b[38;5;129;01mor\u001b[39;00m _global_forward_hooks \u001b[38;5;129;01mor\u001b[39;00m _global_forward_pre_hooks):\n\u001b[32m-> \u001b[39m\u001b[32m1750\u001b[39m     \u001b[38;5;28;01mreturn\u001b[39;00m \u001b[43mforward_call\u001b[49m\u001b[43m(\u001b[49m\u001b[43m*\u001b[49m\u001b[43margs\u001b[49m\u001b[43m,\u001b[49m\u001b[43m \u001b[49m\u001b[43m*\u001b[49m\u001b[43m*\u001b[49m\u001b[43mkwargs\u001b[49m\u001b[43m)\u001b[49m\n\u001b[32m   1752\u001b[39m result = \u001b[38;5;28;01mNone\u001b[39;00m\n\u001b[32m   1753\u001b[39m called_always_called_hooks = \u001b[38;5;28mset\u001b[39m()\n",
      "\u001b[36mFile \u001b[39m\u001b[32md:\\work\\projects\\FunctionalGrasp\\PCD_to_Position_Estimation\\src\\model.py:139\u001b[39m, in \u001b[36mPoseWithClassModel.forward\u001b[39m\u001b[34m(self, xyz)\u001b[39m\n\u001b[32m    138\u001b[39m \u001b[38;5;28;01mdef\u001b[39;00m\u001b[38;5;250m \u001b[39m\u001b[34mforward\u001b[39m(\u001b[38;5;28mself\u001b[39m, xyz):\n\u001b[32m--> \u001b[39m\u001b[32m139\u001b[39m     global_feature = \u001b[38;5;28;43mself\u001b[39;49m\u001b[43m.\u001b[49m\u001b[43mbackbone\u001b[49m\u001b[43m(\u001b[49m\u001b[43mxyz\u001b[49m\u001b[43m)\u001b[49m           \u001b[38;5;66;03m# (B, 1024)\u001b[39;00m\n\u001b[32m    140\u001b[39m     class_logits = \u001b[38;5;28mself\u001b[39m.class_head(global_feature)  \u001b[38;5;66;03m# (B, num_classes)\u001b[39;00m\n\u001b[32m    141\u001b[39m     class_probs = F.softmax(class_logits, dim=\u001b[32m1\u001b[39m)\n",
      "\u001b[36mFile \u001b[39m\u001b[32md:\\Anaconda\\envs\\point_cloud\\Lib\\site-packages\\torch\\nn\\modules\\module.py:1739\u001b[39m, in \u001b[36mModule._wrapped_call_impl\u001b[39m\u001b[34m(self, *args, **kwargs)\u001b[39m\n\u001b[32m   1737\u001b[39m     \u001b[38;5;28;01mreturn\u001b[39;00m \u001b[38;5;28mself\u001b[39m._compiled_call_impl(*args, **kwargs)  \u001b[38;5;66;03m# type: ignore[misc]\u001b[39;00m\n\u001b[32m   1738\u001b[39m \u001b[38;5;28;01melse\u001b[39;00m:\n\u001b[32m-> \u001b[39m\u001b[32m1739\u001b[39m     \u001b[38;5;28;01mreturn\u001b[39;00m \u001b[38;5;28;43mself\u001b[39;49m\u001b[43m.\u001b[49m\u001b[43m_call_impl\u001b[49m\u001b[43m(\u001b[49m\u001b[43m*\u001b[49m\u001b[43margs\u001b[49m\u001b[43m,\u001b[49m\u001b[43m \u001b[49m\u001b[43m*\u001b[49m\u001b[43m*\u001b[49m\u001b[43mkwargs\u001b[49m\u001b[43m)\u001b[49m\n",
      "\u001b[36mFile \u001b[39m\u001b[32md:\\Anaconda\\envs\\point_cloud\\Lib\\site-packages\\torch\\nn\\modules\\module.py:1750\u001b[39m, in \u001b[36mModule._call_impl\u001b[39m\u001b[34m(self, *args, **kwargs)\u001b[39m\n\u001b[32m   1745\u001b[39m \u001b[38;5;66;03m# If we don't have any hooks, we want to skip the rest of the logic in\u001b[39;00m\n\u001b[32m   1746\u001b[39m \u001b[38;5;66;03m# this function, and just call forward.\u001b[39;00m\n\u001b[32m   1747\u001b[39m \u001b[38;5;28;01mif\u001b[39;00m \u001b[38;5;129;01mnot\u001b[39;00m (\u001b[38;5;28mself\u001b[39m._backward_hooks \u001b[38;5;129;01mor\u001b[39;00m \u001b[38;5;28mself\u001b[39m._backward_pre_hooks \u001b[38;5;129;01mor\u001b[39;00m \u001b[38;5;28mself\u001b[39m._forward_hooks \u001b[38;5;129;01mor\u001b[39;00m \u001b[38;5;28mself\u001b[39m._forward_pre_hooks\n\u001b[32m   1748\u001b[39m         \u001b[38;5;129;01mor\u001b[39;00m _global_backward_pre_hooks \u001b[38;5;129;01mor\u001b[39;00m _global_backward_hooks\n\u001b[32m   1749\u001b[39m         \u001b[38;5;129;01mor\u001b[39;00m _global_forward_hooks \u001b[38;5;129;01mor\u001b[39;00m _global_forward_pre_hooks):\n\u001b[32m-> \u001b[39m\u001b[32m1750\u001b[39m     \u001b[38;5;28;01mreturn\u001b[39;00m \u001b[43mforward_call\u001b[49m\u001b[43m(\u001b[49m\u001b[43m*\u001b[49m\u001b[43margs\u001b[49m\u001b[43m,\u001b[49m\u001b[43m \u001b[49m\u001b[43m*\u001b[49m\u001b[43m*\u001b[49m\u001b[43mkwargs\u001b[49m\u001b[43m)\u001b[49m\n\u001b[32m   1752\u001b[39m result = \u001b[38;5;28;01mNone\u001b[39;00m\n\u001b[32m   1753\u001b[39m called_always_called_hooks = \u001b[38;5;28mset\u001b[39m()\n",
      "\u001b[36mFile \u001b[39m\u001b[32md:\\work\\projects\\FunctionalGrasp\\PCD_to_Position_Estimation\\src\\model.py:109\u001b[39m, in \u001b[36mPointNetPPBackbone.forward\u001b[39m\u001b[34m(self, xyz, features)\u001b[39m\n\u001b[32m    106\u001b[39m l1_xyz, l1_features = \u001b[38;5;28mself\u001b[39m.sa1(xyz, features)\n\u001b[32m    108\u001b[39m \u001b[38;5;66;03m# Layer 2\u001b[39;00m\n\u001b[32m--> \u001b[39m\u001b[32m109\u001b[39m l2_xyz, l2_features = \u001b[38;5;28;43mself\u001b[39;49m\u001b[43m.\u001b[49m\u001b[43msa2\u001b[49m\u001b[43m(\u001b[49m\u001b[43ml1_xyz\u001b[49m\u001b[43m,\u001b[49m\u001b[43m \u001b[49m\u001b[43ml1_features\u001b[49m\u001b[43m)\u001b[49m\n\u001b[32m    111\u001b[39m \u001b[38;5;66;03m# Layer 3 (global)\u001b[39;00m\n\u001b[32m    112\u001b[39m l3_xyz, l3_features = \u001b[38;5;28mself\u001b[39m.sa3(l2_xyz, l2_features)\n",
      "\u001b[36mFile \u001b[39m\u001b[32md:\\Anaconda\\envs\\point_cloud\\Lib\\site-packages\\torch\\nn\\modules\\module.py:1739\u001b[39m, in \u001b[36mModule._wrapped_call_impl\u001b[39m\u001b[34m(self, *args, **kwargs)\u001b[39m\n\u001b[32m   1737\u001b[39m     \u001b[38;5;28;01mreturn\u001b[39;00m \u001b[38;5;28mself\u001b[39m._compiled_call_impl(*args, **kwargs)  \u001b[38;5;66;03m# type: ignore[misc]\u001b[39;00m\n\u001b[32m   1738\u001b[39m \u001b[38;5;28;01melse\u001b[39;00m:\n\u001b[32m-> \u001b[39m\u001b[32m1739\u001b[39m     \u001b[38;5;28;01mreturn\u001b[39;00m \u001b[38;5;28;43mself\u001b[39;49m\u001b[43m.\u001b[49m\u001b[43m_call_impl\u001b[49m\u001b[43m(\u001b[49m\u001b[43m*\u001b[49m\u001b[43margs\u001b[49m\u001b[43m,\u001b[49m\u001b[43m \u001b[49m\u001b[43m*\u001b[49m\u001b[43m*\u001b[49m\u001b[43mkwargs\u001b[49m\u001b[43m)\u001b[49m\n",
      "\u001b[36mFile \u001b[39m\u001b[32md:\\Anaconda\\envs\\point_cloud\\Lib\\site-packages\\torch\\nn\\modules\\module.py:1750\u001b[39m, in \u001b[36mModule._call_impl\u001b[39m\u001b[34m(self, *args, **kwargs)\u001b[39m\n\u001b[32m   1745\u001b[39m \u001b[38;5;66;03m# If we don't have any hooks, we want to skip the rest of the logic in\u001b[39;00m\n\u001b[32m   1746\u001b[39m \u001b[38;5;66;03m# this function, and just call forward.\u001b[39;00m\n\u001b[32m   1747\u001b[39m \u001b[38;5;28;01mif\u001b[39;00m \u001b[38;5;129;01mnot\u001b[39;00m (\u001b[38;5;28mself\u001b[39m._backward_hooks \u001b[38;5;129;01mor\u001b[39;00m \u001b[38;5;28mself\u001b[39m._backward_pre_hooks \u001b[38;5;129;01mor\u001b[39;00m \u001b[38;5;28mself\u001b[39m._forward_hooks \u001b[38;5;129;01mor\u001b[39;00m \u001b[38;5;28mself\u001b[39m._forward_pre_hooks\n\u001b[32m   1748\u001b[39m         \u001b[38;5;129;01mor\u001b[39;00m _global_backward_pre_hooks \u001b[38;5;129;01mor\u001b[39;00m _global_backward_hooks\n\u001b[32m   1749\u001b[39m         \u001b[38;5;129;01mor\u001b[39;00m _global_forward_hooks \u001b[38;5;129;01mor\u001b[39;00m _global_forward_pre_hooks):\n\u001b[32m-> \u001b[39m\u001b[32m1750\u001b[39m     \u001b[38;5;28;01mreturn\u001b[39;00m \u001b[43mforward_call\u001b[49m\u001b[43m(\u001b[49m\u001b[43m*\u001b[49m\u001b[43margs\u001b[49m\u001b[43m,\u001b[49m\u001b[43m \u001b[49m\u001b[43m*\u001b[49m\u001b[43m*\u001b[49m\u001b[43mkwargs\u001b[49m\u001b[43m)\u001b[49m\n\u001b[32m   1752\u001b[39m result = \u001b[38;5;28;01mNone\u001b[39;00m\n\u001b[32m   1753\u001b[39m called_always_called_hooks = \u001b[38;5;28mset\u001b[39m()\n",
      "\u001b[36mFile \u001b[39m\u001b[32md:\\work\\projects\\FunctionalGrasp\\PCD_to_Position_Estimation\\src\\model.py:57\u001b[39m, in \u001b[36mPointNetSetAbstraction.forward\u001b[39m\u001b[34m(self, xyz, points)\u001b[39m\n\u001b[32m     53\u001b[39m         new_points = torch.cat([grouped_xyz, grouped_xyz_norm], dim=-\u001b[32m1\u001b[39m)\n\u001b[32m     54\u001b[39m \u001b[38;5;28;01melse\u001b[39;00m:\n\u001b[32m     55\u001b[39m     \u001b[38;5;66;03m# new_xyz are only sampled points (B, npoint, 3)\u001b[39;00m\n\u001b[32m     56\u001b[39m     \u001b[38;5;66;03m# new points are grouped into (B, npoint, nsample, C+6) and have all the points and their coordinates\u001b[39;00m\n\u001b[32m---> \u001b[39m\u001b[32m57\u001b[39m     new_xyz, new_points = \u001b[43msample_and_group\u001b[49m\u001b[43m(\u001b[49m\u001b[38;5;28;43mself\u001b[39;49m\u001b[43m.\u001b[49m\u001b[43mnpoint\u001b[49m\u001b[43m,\u001b[49m\u001b[43m \u001b[49m\u001b[38;5;28;43mself\u001b[39;49m\u001b[43m.\u001b[49m\u001b[43mradius\u001b[49m\u001b[43m,\u001b[49m\u001b[43m \u001b[49m\u001b[38;5;28;43mself\u001b[39;49m\u001b[43m.\u001b[49m\u001b[43mnsample\u001b[49m\u001b[43m,\u001b[49m\u001b[43m \u001b[49m\u001b[43mxyz\u001b[49m\u001b[43m,\u001b[49m\u001b[43m \u001b[49m\u001b[43mpoints\u001b[49m\u001b[43m)\u001b[49m\n\u001b[32m     59\u001b[39m \u001b[38;5;66;03m# Transpose to (B, C, npoint, nsample) for Conv2d\u001b[39;00m\n\u001b[32m     60\u001b[39m \u001b[38;5;66;03m# only new_points are to be pocessed by the MLP\u001b[39;00m\n\u001b[32m     61\u001b[39m new_points = new_points.permute(\u001b[32m0\u001b[39m, \u001b[32m3\u001b[39m, \u001b[32m1\u001b[39m, \u001b[32m2\u001b[39m)\n",
      "\u001b[36mFile \u001b[39m\u001b[32md:\\work\\projects\\FunctionalGrasp\\PCD_to_Position_Estimation\\src\\model_utils.py:133\u001b[39m, in \u001b[36msample_and_group\u001b[39m\u001b[34m(npoint, radius, nsample, xyz, points, returnfps)\u001b[39m\n\u001b[32m    131\u001b[39m B, N, _ = xyz.shape\n\u001b[32m    132\u001b[39m \u001b[38;5;66;03m# 1. Farthest point sampling\u001b[39;00m\n\u001b[32m--> \u001b[39m\u001b[32m133\u001b[39m fps_idx = \u001b[43mfarthest_point_sample\u001b[49m\u001b[43m(\u001b[49m\u001b[43mxyz\u001b[49m\u001b[43m,\u001b[49m\u001b[43m \u001b[49m\u001b[43mnpoint\u001b[49m\u001b[43m)\u001b[49m \u001b[38;5;66;03m# (B, npoint)\u001b[39;00m\n\u001b[32m    134\u001b[39m \u001b[38;5;66;03m# new point cloud built from only the sampled points\u001b[39;00m\n\u001b[32m    135\u001b[39m new_xyz = index_points(xyz, fps_idx)         \u001b[38;5;66;03m# (B, npoint, 3)\u001b[39;00m\n",
      "\u001b[36mFile \u001b[39m\u001b[32md:\\work\\projects\\FunctionalGrasp\\PCD_to_Position_Estimation\\src\\model_utils.py:21\u001b[39m, in \u001b[36mfarthest_point_sample\u001b[39m\u001b[34m(xyz, npoint)\u001b[39m\n\u001b[32m     19\u001b[39m B, N, _ = xyz.shape \u001b[38;5;66;03m# N is the number of points in the point cloud\u001b[39;00m\n\u001b[32m     20\u001b[39m \u001b[38;5;66;03m# tensor for sampled points\u001b[39;00m\n\u001b[32m---> \u001b[39m\u001b[32m21\u001b[39m sampled_points = \u001b[43mtorch\u001b[49m\u001b[43m.\u001b[49m\u001b[43mzeros\u001b[49m\u001b[43m(\u001b[49m\u001b[43mB\u001b[49m\u001b[43m,\u001b[49m\u001b[43m \u001b[49m\u001b[43mnpoint\u001b[49m\u001b[43m,\u001b[49m\u001b[43m \u001b[49m\u001b[43mdtype\u001b[49m\u001b[43m=\u001b[49m\u001b[43mtorch\u001b[49m\u001b[43m.\u001b[49m\u001b[43mlong\u001b[49m\u001b[43m)\u001b[49m\u001b[43m.\u001b[49m\u001b[43mto\u001b[49m\u001b[43m(\u001b[49m\u001b[43mxyz\u001b[49m\u001b[43m.\u001b[49m\u001b[43mdevice\u001b[49m\u001b[43m)\u001b[49m\n\u001b[32m     22\u001b[39m \u001b[38;5;66;03m# initial distances \u001b[39;00m\n\u001b[32m     23\u001b[39m distance = torch.ones(B, N).to(xyz.device) * \u001b[32m1e10\u001b[39m\n",
      "\u001b[31mKeyboardInterrupt\u001b[39m: "
     ]
    }
   ],
   "source": [
    "from src.train_utils import train_model\n",
    "device = torch.device(\"cuda\" if torch.cuda.is_available() else \"cpu\")\n",
    "train_model(model, train_loader, val_loader, optimizer, device, epochs=30)"
   ]
  }
 ],
 "metadata": {
  "kernelspec": {
   "display_name": "point_cloud",
   "language": "python",
   "name": "python3"
  },
  "language_info": {
   "codemirror_mode": {
    "name": "ipython",
    "version": 3
   },
   "file_extension": ".py",
   "mimetype": "text/x-python",
   "name": "python",
   "nbconvert_exporter": "python",
   "pygments_lexer": "ipython3",
   "version": "3.12.9"
  }
 },
 "nbformat": 4,
 "nbformat_minor": 5
}
