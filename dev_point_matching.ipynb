{
 "cells": [
  {
   "cell_type": "code",
   "execution_count": 1,
   "id": "60558dc2",
   "metadata": {},
   "outputs": [
    {
     "name": "stdout",
     "output_type": "stream",
     "text": [
      "Jupyter environment detected. Enabling Open3D WebVisualizer.\n",
      "[Open3D INFO] WebRTC GUI backend enabled.\n",
      "[Open3D INFO] WebRTCWindowSystem: HTTP handshake server disabled.\n"
     ]
    }
   ],
   "source": [
    "import torch \n",
    "from torch.utils.data import DataLoader\n",
    "from src import full_pcd_dataset\n",
    "import importlib\n",
    "importlib.reload(full_pcd_dataset)\n",
    "import json\n",
    "# Create dataset instance\n",
    "dataset = full_pcd_dataset.FullPCDDataset(\"data/full_pcd_150000_samples_6d_1.npz\")\n",
    "with open(\"data/label_dict.json\", \"r\") as f:\n",
    "    label_dict = json.load(f)\n",
    "num_classes = len(label_dict.keys())\n",
    "# Split into train and validation (example: 80-20 split)\n",
    "train_size = int(0.8 * len(dataset))\n",
    "val_size = len(dataset) - train_size\n",
    "train_dataset, val_dataset = torch.utils.data.random_split(dataset, [train_size, val_size])"
   ]
  },
  {
   "cell_type": "code",
   "execution_count": null,
   "id": "4a54afd7",
   "metadata": {},
   "outputs": [
    {
     "data": {
      "text/plain": [
       "[]"
      ]
     },
     "execution_count": 16,
     "metadata": {},
     "output_type": "execute_result"
    }
   ],
   "source": [
    "from pathlib import Path\n",
    "import open3d as o3d\n",
    "\n",
    "model_dir = Path(\"./data/models\")\n",
    "model_list = list(model_dir.glob(\"*\"))\n",
    "model_list"
   ]
  },
  {
   "cell_type": "code",
   "execution_count": null,
   "id": "0fca69be",
   "metadata": {},
   "outputs": [
    {
     "data": {
      "text/plain": [
       "array([[-0.55948658, -0.66245223, -0.49812831, -0.7605989 ],\n",
       "       [-0.61099164,  0.73573889, -0.29219429,  0.26270084],\n",
       "       [ 0.56005713,  0.14087345, -0.81638881,  1.91659689],\n",
       "       [ 0.        ,  0.        ,  0.        ,  1.        ]])"
      ]
     },
     "execution_count": 17,
     "metadata": {},
     "output_type": "execute_result"
    }
   ],
   "source": [
    "dataset.point_clouds[0]\n",
    "dataset.transformations[0]\n"
   ]
  },
  {
   "cell_type": "code",
   "execution_count": null,
   "id": "e0291764",
   "metadata": {},
   "outputs": [],
   "source": []
  },
  {
   "cell_type": "code",
   "execution_count": 2,
   "id": "76397310",
   "metadata": {},
   "outputs": [
    {
     "data": {
      "text/plain": [
       "5"
      ]
     },
     "execution_count": 2,
     "metadata": {},
     "output_type": "execute_result"
    }
   ],
   "source": [
    "# Create data loaders\n",
    "batch_size = 128\n",
    "train_loader = DataLoader(train_dataset, batch_size=batch_size, shuffle=True, num_workers=0,pin_memory=True)\n",
    "val_loader = DataLoader(val_dataset, batch_size=batch_size, shuffle=False, num_workers=0,pin_memory=True)\n",
    "num_classes"
   ]
  },
  {
   "cell_type": "code",
   "execution_count": 3,
   "id": "993cde62",
   "metadata": {},
   "outputs": [],
   "source": [
    "from src.model_updated import PointNet2Classification \n",
    "from torch.optim.lr_scheduler import StepLR\n",
    "# backbone_params = {\"sa_mlps\": [[2, 2, 2], [2, 2, 2]], \"mlp\":[64, 128, 256], \"downsample_points\": [256, 64], \"radii\":[0.1, 0.15], \"ks\":[16, 32], \"add_xyz\":True}\n",
    "\n",
    "check_model = PointNet2Classification(num_classes, backbone_params=None, emb_mode=False)\n",
    "point_model = PointNet2Classification(num_classes, backbone_params=None, emb_mode=True)\n"
   ]
  },
  {
   "cell_type": "code",
   "execution_count": 4,
   "id": "647f038a",
   "metadata": {},
   "outputs": [],
   "source": [
    "checkpoint = torch.load('cls_updated_vsmall_new_data_1/checkpoint_epoch_10.pth', map_location='cpu')  # Load on CPU to avoid GPU memory issues\n",
    "saved_state_dict = checkpoint['model_state']"
   ]
  },
  {
   "cell_type": "code",
   "execution_count": 6,
   "id": "ebfb9f56",
   "metadata": {},
   "outputs": [
    {
     "data": {
      "text/plain": [
       "<All keys matched successfully>"
      ]
     },
     "execution_count": 6,
     "metadata": {},
     "output_type": "execute_result"
    }
   ],
   "source": [
    "check_model.load_state_dict(saved_state_dict)\n",
    "point_model.load_state_dict(saved_state_dict)"
   ]
  },
  {
   "cell_type": "code",
   "execution_count": null,
   "id": "7f09cc30",
   "metadata": {},
   "outputs": [],
   "source": [
    "check_model.eval()\n",
    "point_model.eval()\n",
    "\n",
    "with torch.no_grad():\n",
    "    result = check_model(None,val_dataset[0][0].unsqueeze(0))"
   ]
  },
  {
   "cell_type": "code",
   "execution_count": 15,
   "id": "1ec1e49a",
   "metadata": {},
   "outputs": [
    {
     "data": {
      "text/plain": [
       "(tensor(1),\n",
       " tensor([ 0.4257, -0.0594,  0.0124, -0.9974,  0.9048,  0.0416]),\n",
       " tensor([-0.1448, -1.7881,  2.5892]))"
      ]
     },
     "execution_count": 15,
     "metadata": {},
     "output_type": "execute_result"
    }
   ],
   "source": [
    "val_dataset[0][1]"
   ]
  }
 ],
 "metadata": {
  "kernelspec": {
   "display_name": "point_cloud",
   "language": "python",
   "name": "python3"
  },
  "language_info": {
   "codemirror_mode": {
    "name": "ipython",
    "version": 3
   },
   "file_extension": ".py",
   "mimetype": "text/x-python",
   "name": "python",
   "nbconvert_exporter": "python",
   "pygments_lexer": "ipython3",
   "version": "3.9.21"
  }
 },
 "nbformat": 4,
 "nbformat_minor": 5
}
