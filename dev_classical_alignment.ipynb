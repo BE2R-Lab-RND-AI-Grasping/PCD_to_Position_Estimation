{
 "cells": [
  {
   "cell_type": "code",
   "execution_count": 19,
   "id": "ddc7a74c",
   "metadata": {},
   "outputs": [
    {
     "data": {
      "text/plain": [
       "[WindowsPath('data/hammers/hammer_0.obj'),\n",
       " WindowsPath('data/hammers/hammer_1.obj'),\n",
       " WindowsPath('data/hammers/hammer_2.obj'),\n",
       " WindowsPath('data/hammers/hammer_3.obj'),\n",
       " WindowsPath('data/hammers/hammer_4.obj')]"
      ]
     },
     "execution_count": 19,
     "metadata": {},
     "output_type": "execute_result"
    }
   ],
   "source": [
    "from pathlib import Path\n",
    "import open3d as o3d\n",
    "from copy import deepcopy\n",
    "\n",
    "model_dir = Path(\"./data/hammers\")\n",
    "model_list = list(model_dir.glob(\"*\"))\n",
    "model_list"
   ]
  },
  {
   "cell_type": "code",
   "execution_count": 46,
   "id": "7cb637e0",
   "metadata": {},
   "outputs": [
    {
     "data": {
      "text/plain": [
       "PointCloud with 1000 points."
      ]
     },
     "execution_count": 46,
     "metadata": {},
     "output_type": "execute_result"
    }
   ],
   "source": [
    "model = o3d.io.read_triangle_mesh(model_list[2])\n",
    "ref_pcd = model.sample_points_poisson_disk(number_of_points=1000)\n",
    "ref_pcd.paint_uniform_color([0.0, 1.0, 0.0])  # Green color"
   ]
  },
  {
   "cell_type": "code",
   "execution_count": 21,
   "id": "1215e8a5",
   "metadata": {},
   "outputs": [
    {
     "data": {
      "text/plain": [
       "NpzFile 'data/full_pcd_200000_samples_6d.npz' with keys: pcds, transformations, rotations_6d, positions, classes"
      ]
     },
     "execution_count": 21,
     "metadata": {},
     "output_type": "execute_result"
    }
   ],
   "source": [
    "import numpy as np\n",
    "import open3d as o3d\n",
    "data = np.load(\"data/full_pcd_200000_samples_6d.npz\")\n",
    "data"
   ]
  },
  {
   "cell_type": "code",
   "execution_count": 45,
   "id": "34653768",
   "metadata": {},
   "outputs": [
    {
     "data": {
      "text/plain": [
       "2"
      ]
     },
     "execution_count": 45,
     "metadata": {},
     "output_type": "execute_result"
    }
   ],
   "source": [
    "pcd = o3d.geometry.PointCloud(o3d.utility.Vector3dVector(data['pcds'][0]))\n",
    "pcd.paint_uniform_color([1.0, 0.0, 0.0])  # Red color\n",
    "pcd.estimate_normals(search_param=o3d.geometry.KDTreeSearchParamHybrid(radius=0.01, max_nn=30))\n",
    "label = data['classes'][0]\n",
    "label"
   ]
  },
  {
   "cell_type": "code",
   "execution_count": 47,
   "id": "c41b907b",
   "metadata": {},
   "outputs": [],
   "source": [
    "o3d.visualization.draw_geometries([pcd, ref_pcd])"
   ]
  },
  {
   "cell_type": "code",
   "execution_count": 48,
   "id": "d11df871",
   "metadata": {},
   "outputs": [],
   "source": [
    "# Compute FPFH features\n",
    "radius_feature = 0.05  # Adjust based on point density\n",
    "model_fpfh = o3d.pipelines.registration.compute_fpfh_feature(\n",
    "    ref_pcd, o3d.geometry.KDTreeSearchParamHybrid(radius=radius_feature, max_nn=100))\n",
    "partial_fpfh = o3d.pipelines.registration.compute_fpfh_feature(\n",
    "    pcd, o3d.geometry.KDTreeSearchParamHybrid(radius=radius_feature, max_nn=100))"
   ]
  },
  {
   "cell_type": "code",
   "execution_count": 49,
   "id": "1c3698b6",
   "metadata": {},
   "outputs": [
    {
     "name": "stdout",
     "output_type": "stream",
     "text": [
      "[Open3D WARNING] Too few correspondences (49) after mutual filter, fall back to original correspondences.\n",
      "Coarse transformation:\n",
      " [[-0.59778887  0.08001682  0.79765016 -0.47662448]\n",
      " [ 0.24974905 -0.9268977   0.28015366 -0.34375016]\n",
      " [ 0.7617571   0.36668511  0.534105   -0.52635844]\n",
      " [ 0.          0.          0.          1.        ]]\n"
     ]
    }
   ],
   "source": [
    "# RANSAC parameters\n",
    "distance_threshold = 0.02  # Inlier threshold\n",
    "ransac_n = 4  # Number of random points to test\n",
    "num_iterations = 100000  # Higher = more accurate but slower\n",
    "mutual_filter = True  # Require mutual nearest neighbors\n",
    "\n",
    "# Run RANSAC\n",
    "result = o3d.pipelines.registration.registration_ransac_based_on_feature_matching(\n",
    "    source=pcd, target=ref_pcd, source_feature=partial_fpfh, target_feature=model_fpfh, mutual_filter=mutual_filter, max_correspondence_distance=distance_threshold,\n",
    "    estimation_method=o3d.pipelines.registration.TransformationEstimationPointToPoint(False),\n",
    "    ransac_n=ransac_n,\n",
    "    criteria=o3d.pipelines.registration.RANSACConvergenceCriteria(num_iterations, confidence=0.999))\n",
    "\n",
    "# Get the coarse transformation matrix (partial → model)\n",
    "coarse_transform = result.transformation\n",
    "print(\"Coarse transformation:\\n\", coarse_transform)"
   ]
  },
  {
   "cell_type": "code",
   "execution_count": 50,
   "id": "6cd7493b",
   "metadata": {},
   "outputs": [],
   "source": [
    "partial_aligned = deepcopy(pcd)\n",
    "partial_aligned.paint_uniform_color([0, 0.0, 1.0])  # Blue color\n",
    "partial_aligned = partial_aligned.transform(coarse_transform)"
   ]
  },
  {
   "cell_type": "code",
   "execution_count": null,
   "id": "eaeb6621",
   "metadata": {},
   "outputs": [],
   "source": [
    "o3d.visualization.draw_geometries([ref_pcd,pcd, partial_aligned])"
   ]
  },
  {
   "cell_type": "code",
   "execution_count": 56,
   "id": "ae433cf8",
   "metadata": {},
   "outputs": [],
   "source": [
    "# Initial alignment (if unknown, use identity)\n",
    "initial_transform = np.eye(4)  # or from RANSAC\n",
    "\n",
    "# Run ICP\n",
    "threshold = 0.02  # Max correspondence distance\n",
    "result = o3d.pipelines.registration.registration_icp(\n",
    "    partial_aligned, ref_pcd, threshold, initial_transform,\n",
    "    o3d.pipelines.registration.TransformationEstimationPointToPoint()\n",
    ")\n",
    "\n",
    "# Get the final transformation (partial → model)\n",
    "final_transform = result.transformation\n",
    "\n",
    "# Apply transformation to partial cloud\n",
    "aligned = deepcopy(partial_aligned)\n",
    "aligned.paint_uniform_color([0, 0.0, 1.0])  # Blue color\n",
    "aligned = aligned.transform(final_transform)\n",
    "# Now, points in 'partial_aligned' are in the model's coordinate frame"
   ]
  },
  {
   "cell_type": "code",
   "execution_count": 57,
   "id": "0aa138d7",
   "metadata": {},
   "outputs": [
    {
     "data": {
      "text/plain": [
       "array([[ 9.99112567e-01,  9.20636277e-03,  4.11013643e-02,\n",
       "         6.53948451e-03],\n",
       "       [-1.39817108e-02,  9.92979745e-01,  1.17455255e-01,\n",
       "         1.85737863e-04],\n",
       "       [-3.97314866e-02, -1.17925689e-01,  9.92227263e-01,\n",
       "        -4.38930440e-03],\n",
       "       [ 0.00000000e+00,  0.00000000e+00,  0.00000000e+00,\n",
       "         1.00000000e+00]])"
      ]
     },
     "execution_count": 57,
     "metadata": {},
     "output_type": "execute_result"
    }
   ],
   "source": [
    "result.transformation"
   ]
  },
  {
   "cell_type": "code",
   "execution_count": 58,
   "id": "1b417003",
   "metadata": {},
   "outputs": [],
   "source": [
    "o3d.visualization.draw_geometries([ref_pcd,pcd, aligned])"
   ]
  }
 ],
 "metadata": {
  "kernelspec": {
   "display_name": "point_cloud",
   "language": "python",
   "name": "python3"
  },
  "language_info": {
   "codemirror_mode": {
    "name": "ipython",
    "version": 3
   },
   "file_extension": ".py",
   "mimetype": "text/x-python",
   "name": "python",
   "nbconvert_exporter": "python",
   "pygments_lexer": "ipython3",
   "version": "3.12.9"
  }
 },
 "nbformat": 4,
 "nbformat_minor": 5
}
