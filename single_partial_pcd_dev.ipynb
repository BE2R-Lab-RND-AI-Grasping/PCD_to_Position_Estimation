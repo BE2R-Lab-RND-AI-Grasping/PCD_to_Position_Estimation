{
 "cells": [
  {
   "cell_type": "code",
   "execution_count": 44,
   "id": "26588a07",
   "metadata": {},
   "outputs": [
    {
     "data": {
      "text/plain": [
       "device(type='cuda')"
      ]
     },
     "execution_count": 44,
     "metadata": {},
     "output_type": "execute_result"
    }
   ],
   "source": [
    "import torch \n",
    "\n",
    "device = torch.device(\"cuda\" if torch.cuda.is_available() else \"cpu\")\n",
    "device"
   ]
  },
  {
   "cell_type": "code",
   "execution_count": 45,
   "id": "07b80b8c",
   "metadata": {},
   "outputs": [
    {
     "data": {
      "text/plain": [
       "TriangleMesh with 1627 points and 3148 triangles."
      ]
     },
     "execution_count": 45,
     "metadata": {},
     "output_type": "execute_result"
    }
   ],
   "source": [
    "import open3d as o3d\n",
    "import numpy as np\n",
    "import matplotlib.pyplot as plt\n",
    "\n",
    "mesh = o3d.io.read_triangle_mesh(\"./data/cup/decomposed.obj\")\n",
    "\n",
    "mesh.get_center()\n",
    "mesh.translate(-mesh.get_center())\n",
    "mesh.translate([0,0,0])"
   ]
  },
  {
   "cell_type": "code",
   "execution_count": 46,
   "id": "fc544531",
   "metadata": {},
   "outputs": [],
   "source": [
    "from src import mesh_utils\n",
    "mesh_utils.get_render(mesh)"
   ]
  },
  {
   "cell_type": "code",
   "execution_count": 47,
   "id": "a229524b",
   "metadata": {},
   "outputs": [
    {
     "data": {
      "text/plain": [
       "array([[-0.07246141, -0.66150259,  0.62750332],\n",
       "       [-0.0677656 , -0.6612988 ,  0.62885038],\n",
       "       [-0.06307264, -0.66109469,  0.6301995 ],\n",
       "       ...,\n",
       "       [ 0.05710887,  0.5825105 ,  0.72685184],\n",
       "       [ 0.0616927 ,  0.58265328,  0.72580439],\n",
       "       [ 0.06627882,  0.58279652,  0.72475367]])"
      ]
     },
     "execution_count": 47,
     "metadata": {},
     "output_type": "execute_result"
    }
   ],
   "source": [
    "pcd = o3d.io.read_point_cloud(\"./data/cup/depth.ply\")\n",
    "# mesh.transform(np.array([\n",
    "#         [1, 0, 0, 0],\n",
    "#         [0, -1, 0, 0],\n",
    "#         [0, 0, -1, -5],\n",
    "#         [0, 0, 0, 1]\n",
    "#     ]))\n",
    "# pcd.translate([0,0,5])\n",
    "transform = np.array([\n",
    "    [1, 0, 0, 0],\n",
    "    [0, 1, 0, 0],\n",
    "    [0, 0, 1, 5],\n",
    "    [0, 0, 0, 1]\n",
    "])\n",
    "pcd.transform(transform)\n",
    "\n",
    "np.asarray(pcd.points)"
   ]
  },
  {
   "cell_type": "code",
   "execution_count": 48,
   "id": "e93e5d85",
   "metadata": {},
   "outputs": [],
   "source": [
    "o3d.visualization.draw_geometries([pcd, mesh])"
   ]
  },
  {
   "cell_type": "code",
   "execution_count": null,
   "id": "63bae51c",
   "metadata": {},
   "outputs": [],
   "source": [
    "import matplotlib.pyplot as plt\n",
    "mesh.scale(0.2, center=mesh.get_center())\n",
    "x,y,z = np.asarray(mesh.vertices).T\n",
    "fig = plt.figure()\n",
    "ax = fig.add_subplot(projection='3d')\n",
    "ax.set_xlabel('X Label')\n",
    "ax.set_ylabel('Y Label')\n",
    "ax.set_zlabel('Z Label')\n",
    "ax.scatter(x, y, z, marker='o')\n",
    "plt.show()"
   ]
  },
  {
   "cell_type": "code",
   "execution_count": null,
   "id": "0a5e7e55",
   "metadata": {},
   "outputs": [],
   "source": [
    "import plotly.graph_objects as go\n",
    "import numpy as np\n",
    "\n",
    "fig = go.Figure(data=[go.Mesh3d(x=x, y=y, z=z, color='lightpink', opacity=0.50)])\n",
    "fig.show()"
   ]
  },
  {
   "cell_type": "code",
   "execution_count": null,
   "id": "9901ee54",
   "metadata": {},
   "outputs": [],
   "source": [
    "# mesh.translate(-mesh.get_center())\n",
    "# mesh.scale(0.001, center=mesh.get_center())\n",
    "mesh.compute_triangle_normals()\n",
    "o3d.io.write_triangle_mesh(\"./data/cup/decomposed_scaled.obj\", mesh)\n",
    "\n"
   ]
  },
  {
   "cell_type": "code",
   "execution_count": 22,
   "id": "5ef3c9c6",
   "metadata": {},
   "outputs": [
    {
     "data": {
      "text/plain": [
       "True"
      ]
     },
     "execution_count": 22,
     "metadata": {},
     "output_type": "execute_result"
    }
   ],
   "source": [
    "vis = o3d.visualization.Visualizer()\n",
    "vis.create_window(visible=False)\n",
    "# Add the mesh to the visualizer\n",
    "vis.add_geometry(mesh)\n",
    "\n",
    "# Set up camera parameters\n",
    "ctr = vis.get_view_control()\n",
    "params = ctr.convert_to_pinhole_camera_parameters()\n",
    "# intrinsic = params.intrinsic\n",
    "extrinsic = np.array([\n",
    "    [1, 0, 0, 0],\n",
    "    [0, -1, 0, 0],\n",
    "    [0, 0, -1, 5],\n",
    "    [0, 0, 0, 1]\n",
    "])\n",
    "params.extrinsic = extrinsic\n",
    "ctr.convert_from_pinhole_camera_parameters(params)\n",
    "\n"
   ]
  },
  {
   "cell_type": "code",
   "execution_count": 23,
   "id": "b3ae8992",
   "metadata": {},
   "outputs": [],
   "source": [
    "# Render the scene and capture the image\n",
    "vis.poll_events()\n",
    "vis.update_renderer()\n",
    "vis.capture_screen_image(\"./data/cup/rendered.png\", do_render=True)\n",
    "# vis.capture_depth_point_cloud(\"./data/cup/depth.ply\") "
   ]
  },
  {
   "cell_type": "code",
   "execution_count": null,
   "id": "30eeb652",
   "metadata": {},
   "outputs": [
    {
     "name": "stdout",
     "output_type": "stream",
     "text": [
      "[Open3D WARNING] Write geometry::PointCloud failed: unknown file extension obj for file .\\data\\cup\\depth.obj.\n"
     ]
    }
   ],
   "source": [
    "transform = np.array([\n",
    "    [1, 0, 0, 0],\n",
    "    [0, -1, 0, 0],\n",
    "    [0, 0, -1, 0],\n",
    "    [0, 0, 0, 1]\n",
    "])"
   ]
  }
 ],
 "metadata": {
  "kernelspec": {
   "display_name": "point_cloud",
   "language": "python",
   "name": "python3"
  },
  "language_info": {
   "codemirror_mode": {
    "name": "ipython",
    "version": 3
   },
   "file_extension": ".py",
   "mimetype": "text/x-python",
   "name": "python",
   "nbconvert_exporter": "python",
   "pygments_lexer": "ipython3",
   "version": "3.12.9"
  }
 },
 "nbformat": 4,
 "nbformat_minor": 5
}
