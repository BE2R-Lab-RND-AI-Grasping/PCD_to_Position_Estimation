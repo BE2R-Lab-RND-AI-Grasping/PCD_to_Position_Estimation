{
 "cells": [
  {
   "cell_type": "code",
   "execution_count": 1,
   "id": "a07bc8dd",
   "metadata": {},
   "outputs": [
    {
     "data": {
      "text/plain": [
       "device(type='cuda')"
      ]
     },
     "execution_count": 1,
     "metadata": {},
     "output_type": "execute_result"
    }
   ],
   "source": [
    "import torch\n",
    " \n",
    "\n",
    "device = torch.device(\"cuda\" if torch.cuda.is_available() else \"cpu\")\n",
    "device"
   ]
  },
  {
   "cell_type": "code",
   "execution_count": 6,
   "id": "275a7ac4",
   "metadata": {},
   "outputs": [
    {
     "ename": "ImportError",
     "evalue": "cannot import name 'PointNet2' from 'torch_geometric.nn.encoding' (d:\\Anaconda\\envs\\point_cloud\\Lib\\site-packages\\torch_geometric\\nn\\encoding.py)",
     "output_type": "error",
     "traceback": [
      "\u001b[31m---------------------------------------------------------------------------\u001b[39m",
      "\u001b[31mImportError\u001b[39m                               Traceback (most recent call last)",
      "\u001b[36mCell\u001b[39m\u001b[36m \u001b[39m\u001b[32mIn[6]\u001b[39m\u001b[32m, line 1\u001b[39m\n\u001b[32m----> \u001b[39m\u001b[32m1\u001b[39m \u001b[38;5;28;01mfrom\u001b[39;00m\u001b[38;5;250m \u001b[39m\u001b[34;01mtorch_geometric\u001b[39;00m\u001b[34;01m.\u001b[39;00m\u001b[34;01mnn\u001b[39;00m\u001b[34;01m.\u001b[39;00m\u001b[34;01mencoding\u001b[39;00m\u001b[38;5;250m \u001b[39m\u001b[38;5;28;01mimport\u001b[39;00m PointNet2\n\u001b[32m      3\u001b[39m \u001b[38;5;28mprint\u001b[39m(torch.__version__)  \u001b[38;5;66;03m# Should match your PyTorch install\u001b[39;00m\n\u001b[32m      4\u001b[39m model = PointNet2(in_channels=\u001b[32m3\u001b[39m, out_channels=\u001b[32m10\u001b[39m)\n",
      "\u001b[31mImportError\u001b[39m: cannot import name 'PointNet2' from 'torch_geometric.nn.encoding' (d:\\Anaconda\\envs\\point_cloud\\Lib\\site-packages\\torch_geometric\\nn\\encoding.py)"
     ]
    }
   ],
   "source": [
    "from torch_geometric.nn.encoding import PointNet2\n",
    "\n",
    "print(torch.__version__)  # Should match your PyTorch install\n",
    "model = PointNet2(in_channels=3, out_channels=10)\n",
    "print(model)  # Should print PointNet++ architecture"
   ]
  },
  {
   "cell_type": "code",
   "execution_count": 2,
   "id": "c6233bb7",
   "metadata": {},
   "outputs": [
    {
     "ename": "Exception",
     "evalue": "Open3D was not built with PyTorch support!",
     "output_type": "error",
     "traceback": [
      "\u001b[31m---------------------------------------------------------------------------\u001b[39m",
      "\u001b[31mException\u001b[39m                                 Traceback (most recent call last)",
      "\u001b[36mCell\u001b[39m\u001b[36m \u001b[39m\u001b[32mIn[2]\u001b[39m\u001b[32m, line 1\u001b[39m\n\u001b[32m----> \u001b[39m\u001b[32m1\u001b[39m \u001b[38;5;28;01mfrom\u001b[39;00m\u001b[38;5;250m \u001b[39m\u001b[34;01mopen3d\u001b[39;00m\u001b[34;01m.\u001b[39;00m\u001b[34;01mml\u001b[39;00m\u001b[34;01m.\u001b[39;00m\u001b[34;01mtorch\u001b[39;00m\u001b[34;01m.\u001b[39;00m\u001b[34;01mmodels\u001b[39;00m\u001b[38;5;250m \u001b[39m\u001b[38;5;28;01mimport\u001b[39;00m PointNet2\n",
      "\u001b[36mFile \u001b[39m\u001b[32md:\\Anaconda\\envs\\pointnet\\Lib\\site-packages\\open3d\\ml\\torch\\__init__.py:15\u001b[39m\n\u001b[32m     12\u001b[39m \u001b[38;5;28;01mfrom\u001b[39;00m\u001b[38;5;250m \u001b[39m\u001b[34;01mopen3d\u001b[39;00m\u001b[38;5;250m \u001b[39m\u001b[38;5;28;01mimport\u001b[39;00m _build_config\n\u001b[32m     14\u001b[39m \u001b[38;5;28;01mif\u001b[39;00m \u001b[38;5;129;01mnot\u001b[39;00m _build_config[\u001b[33m\"\u001b[39m\u001b[33mPytorch_VERSION\u001b[39m\u001b[33m\"\u001b[39m]:\n\u001b[32m---> \u001b[39m\u001b[32m15\u001b[39m     \u001b[38;5;28;01mraise\u001b[39;00m \u001b[38;5;167;01mException\u001b[39;00m(\u001b[33m'\u001b[39m\u001b[33mOpen3D was not built with PyTorch support!\u001b[39m\u001b[33m'\u001b[39m)\n\u001b[32m     16\u001b[39m _o3d_torch_version = _verp(_build_config[\u001b[33m\"\u001b[39m\u001b[33mPytorch_VERSION\u001b[39m\u001b[33m\"\u001b[39m])\n\u001b[32m     17\u001b[39m \u001b[38;5;66;03m# Check match with PyTorch version, any patch level is OK\u001b[39;00m\n",
      "\u001b[31mException\u001b[39m: Open3D was not built with PyTorch support!"
     ]
    }
   ],
   "source": [
    "from open3d.ml.torch.models import PointNet2"
   ]
  },
  {
   "cell_type": "code",
   "execution_count": 10,
   "id": "38dc3a81",
   "metadata": {},
   "outputs": [],
   "source": [
    "import setuptools.build_meta as build_meta"
   ]
  }
 ],
 "metadata": {
  "kernelspec": {
   "display_name": "pointnet",
   "language": "python",
   "name": "python3"
  },
  "language_info": {
   "codemirror_mode": {
    "name": "ipython",
    "version": 3
   },
   "file_extension": ".py",
   "mimetype": "text/x-python",
   "name": "python",
   "nbconvert_exporter": "python",
   "pygments_lexer": "ipython3",
   "version": "3.11.11"
  }
 },
 "nbformat": 4,
 "nbformat_minor": 5
}
