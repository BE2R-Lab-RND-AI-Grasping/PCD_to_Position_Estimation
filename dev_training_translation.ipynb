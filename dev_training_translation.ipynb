{
 "cells": [
  {
   "cell_type": "code",
   "execution_count": null,
   "id": "2a10be69",
   "metadata": {},
   "outputs": [],
   "source": [
    "import torch \n",
    "from torch.utils.data import DataLoader\n",
    "from src import full_pcd_dataset\n",
    "import importlib\n",
    "importlib.reload(full_pcd_dataset)\n",
    "import json\n",
    "# Create dataset instance\n",
    "dataset = full_pcd_dataset.FullPCDDataset(\"data/full_pcd_100000_samples_6d.npz\")\n",
    "with open(\"data/label_dict.json\", \"r\") as f:\n",
    "    label_dict = json.load(f)\n",
    "num_classes = len(label_dict.keys())\n",
    "# Split into train and validation (example: 80-20 split)\n",
    "train_size = int(0.8 * len(dataset))\n",
    "val_size = len(dataset) - train_size\n",
    "train_dataset, val_dataset = torch.utils.data.random_split(dataset, [train_size, val_size])\n",
    "\n",
    "# Create data loaders\n",
    "batch_size = 512\n",
    "train_loader = DataLoader(train_dataset, batch_size=batch_size, shuffle=True, num_workers=8,pin_memory=True)\n",
    "val_loader = DataLoader(val_dataset, batch_size=batch_size, shuffle=False, num_workers=8,pin_memory=True)\n",
    "num_classes"
   ]
  },
  {
   "cell_type": "code",
   "execution_count": null,
   "id": "faa2d235",
   "metadata": {},
   "outputs": [],
   "source": [
    "from src.model_translation import TranslationModel \n",
    "from torch.optim.lr_scheduler import StepLR\n",
    "model = TranslationModel(coord3=False)\n",
    "optimizer = torch.optim.Adam(model.parameters(), lr=1e-2)\n",
    "scheduler = StepLR(optimizer, step_size=5, gamma=0.5) "
   ]
  },
  {
   "cell_type": "code",
   "execution_count": null,
   "id": "1ef061b7",
   "metadata": {},
   "outputs": [],
   "source": [
    "def count_parameters(model):\n",
    "    return sum(p.numel() for p in model.parameters() if p.requires_grad)"
   ]
  },
  {
   "cell_type": "code",
   "execution_count": null,
   "id": "0799aeae",
   "metadata": {},
   "outputs": [],
   "source": [
    "print(count_parameters(model))"
   ]
  },
  {
   "cell_type": "code",
   "execution_count": null,
   "id": "133f84a6",
   "metadata": {},
   "outputs": [],
   "source": [
    "from src.train_position import train_model\n",
    "device = torch.device(\"cuda\" if torch.cuda.is_available() else \"cpu\")\n",
    "print(f\"Using device: {device}\")"
   ]
  },
  {
   "cell_type": "code",
   "execution_count": null,
   "id": "cd05bfb6",
   "metadata": {},
   "outputs": [],
   "source": [
    "train_model(model, train_loader, val_loader, optimizer, scheduler, device, epochs=100, directory=\"new_run_translation_mae\")"
   ]
  }
 ],
 "metadata": {
  "kernelspec": {
   "display_name": "point_cloud",
   "language": "python",
   "name": "python3"
  },
  "language_info": {
   "codemirror_mode": {
    "name": "ipython",
    "version": 3
   },
   "file_extension": ".py",
   "mimetype": "text/x-python",
   "name": "python",
   "nbconvert_exporter": "python",
   "pygments_lexer": "ipython3",
   "version": "3.12.9"
  }
 },
 "nbformat": 4,
 "nbformat_minor": 5
}
