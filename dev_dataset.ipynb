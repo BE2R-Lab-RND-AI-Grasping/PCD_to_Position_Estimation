{
 "cells": [
  {
   "cell_type": "code",
   "execution_count": 1,
   "id": "ed106520",
   "metadata": {},
   "outputs": [
    {
     "name": "stdout",
     "output_type": "stream",
     "text": [
      "Jupyter environment detected. Enabling Open3D WebVisualizer.\n",
      "[Open3D INFO] WebRTC GUI backend enabled.\n",
      "[Open3D INFO] WebRTCWindowSystem: HTTP handshake server disabled.\n"
     ]
    }
   ],
   "source": [
    "from src import full_pcd_dataset\n",
    "import importlib\n",
    "importlib.reload(full_pcd_dataset)\n",
    "\n",
    "data_creator = full_pcd_dataset.FullPCDDataCreator()"
   ]
  },
  {
   "cell_type": "code",
   "execution_count": 4,
   "id": "dc93cf39",
   "metadata": {},
   "outputs": [
    {
     "data": {
      "text/plain": [
       "[WindowsPath('data/hammers/hammer_0.obj'),\n",
       " WindowsPath('data/hammers/hammer_1.obj'),\n",
       " WindowsPath('data/hammers/hammer_2.obj'),\n",
       " WindowsPath('data/hammers/hammer_3.obj'),\n",
       " WindowsPath('data/hammers/hammer_4.obj')]"
      ]
     },
     "execution_count": 4,
     "metadata": {},
     "output_type": "execute_result"
    }
   ],
   "source": [
    "from pathlib import Path\n",
    "import open3d as o3d\n",
    "\n",
    "model_dir = Path(\"./data/hammers\")\n",
    "model_list = list(model_dir.glob(\"*\"))\n",
    "model_list"
   ]
  },
  {
   "cell_type": "code",
   "execution_count": null,
   "id": "87a2bac7",
   "metadata": {},
   "outputs": [],
   "source": [
    "# for model_path in model_list:\n",
    "#     model = o3d.io.read_triangle_mesh(model_path)\n",
    "#     model.translate(-model.get_center())\n",
    "#     model.scale(0.001, center=[0,0,0])\n",
    "#     o3d.io.write_triangle_mesh(model_path, model)\n",
    "#     aabb = model.get_axis_aligned_bounding_box()\n",
    "#     results = aabb.get_extent()\n",
    "\n",
    "\n"
   ]
  },
  {
   "cell_type": "code",
   "execution_count": 7,
   "id": "e6722f32",
   "metadata": {},
   "outputs": [
    {
     "data": {
      "text/plain": [
       "[array([ 1.06972144e-07, -2.50934152e-09,  2.56585176e-08]),\n",
       " array([0.42088601, 0.1561596 , 0.0427159 ]),\n",
       " array([-1.70406585e-08,  7.27977451e-09, -7.95439494e-09]),\n",
       " array([0.331536 , 0.1532779, 0.0390123]),\n",
       " array([-6.86945494e-08,  5.84703239e-09, -4.94012118e-09]),\n",
       " array([0.33303139, 0.13632961, 0.038375  ]),\n",
       " array([ 8.58447656e-08,  2.44651001e-08, -1.24818662e-08]),\n",
       " array([0.33428951, 0.14471459, 0.0360433 ]),\n",
       " array([-2.00447782e-07, -2.25467247e-08,  8.63935400e-09]),\n",
       " array([0.334803 , 0.1340526, 0.0388809])]"
      ]
     },
     "execution_count": 7,
     "metadata": {},
     "output_type": "execute_result"
    }
   ],
   "source": [
    "results = []\n",
    "for model_path in model_list:\n",
    "    model = o3d.io.read_triangle_mesh(model_path)\n",
    "    aabb = model.get_axis_aligned_bounding_box()\n",
    "    results.append(model.get_center())\n",
    "    results.append(aabb.get_extent())\n",
    "\n",
    "results"
   ]
  },
  {
   "cell_type": "code",
   "execution_count": 8,
   "id": "edd5778a",
   "metadata": {},
   "outputs": [
    {
     "name": "stdout",
     "output_type": "stream",
     "text": [
      "Subfunction took 0.0738 seconds\n",
      "sample 1000 took 22.2750 seconds\n",
      "sample 2000 took 18.5019 seconds\n",
      "sample 3000 took 18.9975 seconds\n",
      "sample 4000 took 19.3319 seconds\n",
      "sample 5000 took 19.1657 seconds\n",
      "sample 6000 took 19.0756 seconds\n",
      "sample 7000 took 18.7285 seconds\n",
      "sample 8000 took 19.1109 seconds\n",
      "sample 9000 took 18.9849 seconds\n",
      "sample 10000 took 19.3487 seconds\n",
      "sample 11000 took 19.1095 seconds\n",
      "sample 12000 took 18.8607 seconds\n",
      "sample 13000 took 18.8503 seconds\n",
      "sample 14000 took 18.6598 seconds\n",
      "sample 15000 took 18.9180 seconds\n",
      "sample 16000 took 18.8099 seconds\n",
      "sample 17000 took 19.1623 seconds\n",
      "sample 18000 took 18.9565 seconds\n",
      "sample 19000 took 18.6677 seconds\n",
      "sample 20000 took 18.7493 seconds\n",
      "sample 21000 took 18.5640 seconds\n",
      "sample 22000 took 18.7149 seconds\n",
      "sample 23000 took 18.3249 seconds\n",
      "sample 24000 took 18.9252 seconds\n",
      "sample 25000 took 18.5925 seconds\n",
      "sample 26000 took 18.5311 seconds\n",
      "sample 27000 took 18.4569 seconds\n",
      "sample 28000 took 18.3468 seconds\n",
      "sample 29000 took 19.0532 seconds\n",
      "sample 30000 took 18.3847 seconds\n",
      "sample 31000 took 19.1399 seconds\n",
      "sample 32000 took 18.5593 seconds\n",
      "sample 33000 took 18.8001 seconds\n",
      "sample 34000 took 18.7839 seconds\n",
      "sample 35000 took 19.5278 seconds\n",
      "sample 36000 took 18.9106 seconds\n",
      "sample 37000 took 19.0236 seconds\n",
      "sample 38000 took 19.0541 seconds\n",
      "sample 39000 took 18.7803 seconds\n",
      "sample 40000 took 18.8648 seconds\n",
      "sample 41000 took 18.7558 seconds\n",
      "sample 42000 took 18.8698 seconds\n",
      "sample 43000 took 18.9288 seconds\n",
      "sample 44000 took 18.7041 seconds\n",
      "sample 45000 took 18.9588 seconds\n",
      "sample 46000 took 18.9602 seconds\n",
      "sample 47000 took 18.6241 seconds\n",
      "sample 48000 took 18.5754 seconds\n",
      "sample 49000 took 18.8815 seconds\n",
      "sample 50000 took 18.9411 seconds\n",
      "sample 51000 took 19.2805 seconds\n",
      "sample 52000 took 19.3917 seconds\n",
      "sample 53000 took 19.0910 seconds\n",
      "sample 54000 took 19.0064 seconds\n",
      "sample 55000 took 18.8614 seconds\n",
      "sample 56000 took 18.7646 seconds\n",
      "sample 57000 took 19.0599 seconds\n",
      "sample 58000 took 19.1828 seconds\n",
      "sample 59000 took 19.3506 seconds\n",
      "sample 60000 took 18.9553 seconds\n",
      "sample 61000 took 18.9895 seconds\n",
      "sample 62000 took 18.8523 seconds\n",
      "sample 63000 took 18.7611 seconds\n",
      "sample 64000 took 18.8982 seconds\n",
      "sample 65000 took 19.2918 seconds\n",
      "sample 66000 took 18.8978 seconds\n",
      "sample 67000 took 18.9292 seconds\n",
      "sample 68000 took 18.8870 seconds\n",
      "sample 69000 took 18.8710 seconds\n",
      "sample 70000 took 18.9168 seconds\n",
      "sample 71000 took 19.0008 seconds\n",
      "sample 72000 took 19.5941 seconds\n",
      "sample 73000 took 19.0016 seconds\n",
      "sample 74000 took 18.7621 seconds\n",
      "sample 75000 took 18.9850 seconds\n",
      "sample 76000 took 19.5568 seconds\n",
      "sample 77000 took 18.7534 seconds\n",
      "sample 78000 took 19.1671 seconds\n",
      "sample 79000 took 19.8552 seconds\n",
      "sample 80000 took 19.0632 seconds\n",
      "sample 81000 took 18.9344 seconds\n",
      "sample 82000 took 18.9334 seconds\n",
      "sample 83000 took 18.7135 seconds\n",
      "sample 84000 took 19.0480 seconds\n",
      "sample 85000 took 19.1322 seconds\n",
      "sample 86000 took 19.3940 seconds\n",
      "sample 87000 took 18.9477 seconds\n",
      "sample 88000 took 19.0491 seconds\n",
      "sample 89000 took 18.9746 seconds\n",
      "sample 90000 took 18.9924 seconds\n",
      "sample 91000 took 19.2529 seconds\n",
      "sample 92000 took 19.0993 seconds\n",
      "sample 93000 took 19.5570 seconds\n",
      "sample 94000 took 19.0482 seconds\n",
      "sample 95000 took 19.1197 seconds\n",
      "sample 96000 took 19.1991 seconds\n",
      "sample 97000 took 19.0273 seconds\n",
      "sample 98000 took 19.7135 seconds\n",
      "sample 99000 took 19.2638 seconds\n",
      "sample 100000 took 19.0063 seconds\n",
      "sample 101000 took 19.1001 seconds\n",
      "sample 102000 took 19.3726 seconds\n",
      "sample 103000 took 19.4502 seconds\n",
      "sample 104000 took 19.2841 seconds\n",
      "sample 105000 took 19.4088 seconds\n",
      "sample 106000 took 19.6418 seconds\n",
      "sample 107000 took 19.1670 seconds\n",
      "sample 108000 took 19.1322 seconds\n",
      "sample 109000 took 19.0927 seconds\n",
      "sample 110000 took 19.3229 seconds\n",
      "sample 111000 took 19.0581 seconds\n",
      "sample 112000 took 19.4360 seconds\n",
      "sample 113000 took 19.1906 seconds\n",
      "sample 114000 took 20.0225 seconds\n",
      "sample 115000 took 19.1342 seconds\n",
      "sample 116000 took 19.2805 seconds\n",
      "sample 117000 took 19.1274 seconds\n",
      "sample 118000 took 19.5095 seconds\n",
      "sample 119000 took 19.1789 seconds\n",
      "sample 120000 took 19.2743 seconds\n",
      "sample 121000 took 19.1872 seconds\n",
      "sample 122000 took 19.3981 seconds\n",
      "sample 123000 took 19.1831 seconds\n",
      "sample 124000 took 19.2092 seconds\n",
      "sample 125000 took 19.4748 seconds\n",
      "sample 126000 took 19.2194 seconds\n",
      "sample 127000 took 19.2707 seconds\n",
      "sample 128000 took 19.6141 seconds\n",
      "sample 129000 took 19.3063 seconds\n",
      "sample 130000 took 19.3544 seconds\n",
      "sample 131000 took 19.5488 seconds\n",
      "sample 132000 took 19.3210 seconds\n",
      "sample 133000 took 19.8098 seconds\n",
      "sample 134000 took 19.2924 seconds\n",
      "sample 135000 took 19.3655 seconds\n",
      "sample 136000 took 19.3671 seconds\n",
      "sample 137000 took 19.2537 seconds\n",
      "sample 138000 took 19.7129 seconds\n",
      "sample 139000 took 19.4358 seconds\n",
      "sample 140000 took 19.5497 seconds\n",
      "sample 141000 took 19.5959 seconds\n",
      "sample 142000 took 19.5629 seconds\n",
      "sample 143000 took 19.6058 seconds\n",
      "sample 144000 took 19.4230 seconds\n",
      "sample 145000 took 19.5034 seconds\n",
      "sample 146000 took 20.3652 seconds\n",
      "sample 147000 took 19.7909 seconds\n",
      "sample 148000 took 19.7816 seconds\n",
      "sample 149000 took 24.0987 seconds\n",
      "sample 150000 took 20.4024 seconds\n",
      "sample 151000 took 19.8155 seconds\n",
      "sample 152000 took 20.8532 seconds\n",
      "sample 153000 took 20.6259 seconds\n",
      "sample 154000 took 20.4091 seconds\n",
      "sample 155000 took 20.5700 seconds\n",
      "sample 156000 took 20.6109 seconds\n",
      "sample 157000 took 20.7419 seconds\n",
      "sample 158000 took 21.1249 seconds\n",
      "sample 159000 took 23.5272 seconds\n",
      "sample 160000 took 20.6065 seconds\n",
      "sample 161000 took 20.6432 seconds\n",
      "sample 162000 took 20.6997 seconds\n",
      "sample 163000 took 20.5843 seconds\n",
      "sample 164000 took 20.6197 seconds\n",
      "sample 165000 took 20.5589 seconds\n",
      "sample 166000 took 20.9521 seconds\n",
      "sample 167000 took 20.5943 seconds\n",
      "sample 168000 took 20.3047 seconds\n",
      "sample 169000 took 19.6513 seconds\n",
      "sample 170000 took 22.8605 seconds\n",
      "sample 171000 took 20.1389 seconds\n",
      "sample 172000 took 20.7386 seconds\n",
      "sample 173000 took 21.7110 seconds\n",
      "sample 174000 took 22.1481 seconds\n",
      "sample 175000 took 21.7248 seconds\n",
      "sample 176000 took 20.1126 seconds\n",
      "sample 177000 took 20.2245 seconds\n",
      "sample 178000 took 20.2775 seconds\n",
      "sample 179000 took 20.3257 seconds\n",
      "sample 180000 took 24.1669 seconds\n",
      "sample 181000 took 20.2103 seconds\n",
      "sample 182000 took 20.7972 seconds\n",
      "sample 183000 took 20.7519 seconds\n",
      "sample 184000 took 20.5022 seconds\n",
      "sample 185000 took 20.7915 seconds\n",
      "sample 186000 took 20.7551 seconds\n",
      "sample 187000 took 21.1046 seconds\n",
      "sample 188000 took 20.3568 seconds\n",
      "sample 189000 took 23.3587 seconds\n",
      "sample 190000 took 20.8587 seconds\n",
      "sample 191000 took 20.9239 seconds\n",
      "sample 192000 took 20.4194 seconds\n",
      "sample 193000 took 20.0958 seconds\n",
      "sample 194000 took 20.4190 seconds\n",
      "sample 195000 took 20.5696 seconds\n",
      "sample 196000 took 20.4647 seconds\n",
      "sample 197000 took 20.7004 seconds\n",
      "sample 198000 took 20.3328 seconds\n",
      "sample 199000 took 24.8026 seconds\n",
      "sample 200000 took 20.6407 seconds\n"
     ]
    }
   ],
   "source": [
    "data_creator.generate_data_6d(model_list,[\"combwrench\",  \"drill\", \"hammer\", \"screwdriver\",\"wrench\"], 200000)"
   ]
  },
  {
   "cell_type": "code",
   "execution_count": null,
   "id": "5b198a84",
   "metadata": {},
   "outputs": [],
   "source": [
    "0.4*100000/3600"
   ]
  },
  {
   "cell_type": "code",
   "execution_count": null,
   "id": "b749894f",
   "metadata": {},
   "outputs": [],
   "source": [
    "data_creator.generate_data_6d.\n"
   ]
  },
  {
   "cell_type": "code",
   "execution_count": null,
   "id": "f90ea5dd",
   "metadata": {},
   "outputs": [],
   "source": [
    "\n",
    "np.savez(f\"full_pcd_10000_samples.npz\", pcds=data_creator.pcd_array,\n",
    "                 transformations=data_creator.transformation_array, rotations_6d=data_creator.d6_rotations_array, positions=data_creator.position_array, classes=data_creator.class_array)"
   ]
  },
  {
   "cell_type": "code",
   "execution_count": null,
   "id": "43b3959b",
   "metadata": {},
   "outputs": [],
   "source": [
    "import numpy as np\n",
    "varray = np.asarray(model.vertices)\n",
    "z = varray[:,0]\n",
    "print(max(z), min(z), max(z) - min(z))\n"
   ]
  },
  {
   "cell_type": "code",
   "execution_count": 9,
   "id": "6a8f33f0",
   "metadata": {},
   "outputs": [
    {
     "data": {
      "text/plain": [
       "NpzFile 'data/full_pcd_200000_samples_6d.npz' with keys: pcds, transformations, rotations_6d, positions, classes"
      ]
     },
     "execution_count": 9,
     "metadata": {},
     "output_type": "execute_result"
    }
   ],
   "source": [
    "import numpy as np\n",
    "import open3d as o3d\n",
    "data = np.load(\"data/full_pcd_200000_samples_6d.npz\")\n",
    "\n",
    "pcd = o3d.geometry.PointCloud(o3d.utility.Vector3dVector(data['pcds'][0]))\n",
    "data"
   ]
  },
  {
   "cell_type": "code",
   "execution_count": 2,
   "id": "68cb7642",
   "metadata": {},
   "outputs": [],
   "source": [
    "import numpy as np\n",
    "first_part = np.load(\"data/full_pcd_150000_samples_6d_1.npz\")\n",
    "second_part = np.load(\"data/full_pcd_150000_samples_6d_2.npz\")\n",
    "# first_part"
   ]
  },
  {
   "cell_type": "code",
   "execution_count": 7,
   "id": "0cd82fd9",
   "metadata": {},
   "outputs": [
    {
     "ename": "",
     "evalue": "",
     "output_type": "error",
     "traceback": [
      "\u001b[1;31mThe Kernel crashed while executing code in the current cell or a previous cell. \n",
      "\u001b[1;31mPlease review the code in the cell(s) to identify a possible cause of the failure. \n",
      "\u001b[1;31mClick <a href='https://aka.ms/vscodeJupyterKernelCrash'>here</a> for more info. \n",
      "\u001b[1;31mView Jupyter <a href='command:jupyter.viewOutput'>log</a> for further details."
     ]
    }
   ],
   "source": [
    "np.savez(\"full_pcd_300000_samples_6d.npz\", pcds = np.concatenate([first_part[\"pcds\"], second_part[\"pcds\"]]),\n",
    "                                                                 transformations=np.concatenate([first_part[\"transformations\"], second_part[\"transformations\"]]),\n",
    "                                                                 rotations_6d=np.concatenate([first_part[\"rotations_6d\"], second_part[\"rotations_6d\"]]),\n",
    "                                                                 positions=np.concatenate([first_part[\"positions\"], second_part[\"positions\"]]),\n",
    "                                                                 classes=np.concatenate([first_part[\"classes\"], second_part[\"classes\"]]))"
   ]
  },
  {
   "cell_type": "code",
   "execution_count": 4,
   "id": "f656bd20",
   "metadata": {},
   "outputs": [
    {
     "ename": "",
     "evalue": "",
     "output_type": "error",
     "traceback": [
      "\u001b[1;31mThe Kernel crashed while executing code in the current cell or a previous cell. \n",
      "\u001b[1;31mPlease review the code in the cell(s) to identify a possible cause of the failure. \n",
      "\u001b[1;31mClick <a href='https://aka.ms/vscodeJupyterKernelCrash'>here</a> for more info. \n",
      "\u001b[1;31mView Jupyter <a href='command:jupyter.viewOutput'>log</a> for further details."
     ]
    }
   ],
   "source": [
    "np.concatenate([first_part[\"pcds\"], second_part[\"pcds\"]])"
   ]
  },
  {
   "cell_type": "code",
   "execution_count": 3,
   "id": "d20990e3",
   "metadata": {},
   "outputs": [
    {
     "data": {
      "text/plain": [
       "array([[[-0.76254422,  0.24892272,  1.91962412],\n",
       "        [-0.75160021,  0.28859731,  1.8939306 ],\n",
       "        [-0.77103352,  0.24168802,  1.92492181],\n",
       "        ...,\n",
       "        [-0.72934326,  0.29043516,  1.88850485],\n",
       "        [-0.72735384,  0.29486564,  1.89245603],\n",
       "        [-0.73153927,  0.30989938,  1.88316734]],\n",
       "\n",
       "       [[-0.22718109,  0.79814367,  1.43344281],\n",
       "        [-0.22358073,  0.82527614,  1.37879752],\n",
       "        [-0.28587657,  0.75731497,  1.49923447],\n",
       "        ...,\n",
       "        [-0.15849028,  0.8721381 ,  1.29453983],\n",
       "        [-0.28402365,  0.76551433,  1.46452059],\n",
       "        [-0.18111693,  0.82307426,  1.36450727]],\n",
       "\n",
       "       [[-0.1344371 ,  0.37865952,  1.37428584],\n",
       "        [-0.09385236,  0.46349691,  1.37648648],\n",
       "        [-0.36128537,  0.33369877,  1.37618804],\n",
       "        ...,\n",
       "        [-0.3041891 ,  0.3183742 ,  1.36523888],\n",
       "        [-0.27189862,  0.35838907,  1.38797749],\n",
       "        [-0.2887007 ,  0.3261488 ,  1.3614348 ]],\n",
       "\n",
       "       ...,\n",
       "\n",
       "       [[-0.08276277,  0.27356357,  0.770329  ],\n",
       "        [-0.05580159,  0.31032816,  0.80448689],\n",
       "        [-0.09862486,  0.23547651,  0.7868643 ],\n",
       "        ...,\n",
       "        [-0.1084872 ,  0.31664705,  0.82151318],\n",
       "        [-0.05816748,  0.27754615,  0.76741704],\n",
       "        [-0.08852461,  0.26095545,  0.78540174]],\n",
       "\n",
       "       [[-0.04517536,  0.10234818,  0.89693696],\n",
       "        [-0.11350494,  0.13255275,  0.89895629],\n",
       "        [-0.05900474,  0.12703599,  0.78112949],\n",
       "        ...,\n",
       "        [-0.05101482,  0.13298877,  0.85834366],\n",
       "        [-0.05990806,  0.12797665,  0.70611269],\n",
       "        [-0.11993059,  0.09875978,  0.90227293]],\n",
       "\n",
       "       [[ 1.42971187,  0.39685417,  1.82625723],\n",
       "        [ 1.47230804,  0.4250832 ,  1.85774307],\n",
       "        [ 1.2515291 ,  0.39464214,  1.79669437],\n",
       "        ...,\n",
       "        [ 1.37282678,  0.40284391,  1.82476788],\n",
       "        [ 1.27115538,  0.39833825,  1.80080125],\n",
       "        [ 1.47802374,  0.3695437 ,  1.85993325]]])"
      ]
     },
     "execution_count": 3,
     "metadata": {},
     "output_type": "execute_result"
    }
   ],
   "source": [
    "first_part[\"pcds\"]"
   ]
  },
  {
   "cell_type": "code",
   "execution_count": null,
   "id": "e8a45ed6",
   "metadata": {},
   "outputs": [],
   "source": [
    "np.savez(f\"full_pcd_150000_samples_6d_1.npz\", pcds=data[\"pcds\"][0:150000],\n",
    "                 transformations=data[\"transformations\"][0:150000], rotations_6d=data[\"rotations_6d\"][0:150000], positions=data[\"positions\"][0:150000], classes=data[\"classes\"][0:150000])\n"
   ]
  },
  {
   "cell_type": "code",
   "execution_count": null,
   "id": "e1e8aa76",
   "metadata": {},
   "outputs": [],
   "source": []
  },
  {
   "cell_type": "code",
   "execution_count": 4,
   "id": "b2b35c63",
   "metadata": {},
   "outputs": [],
   "source": [
    "np.savez(f\"full_pcd_150000_samples_6d_2.npz\", pcds=data[\"pcds\"][150000:300000],\n",
    "                 transformations=data[\"transformations\"][150000:300000], rotations_6d=data[\"rotations_6d\"][150000:300000], positions=data[\"positions\"][150000:300000], classes=data[\"classes\"][150000:300000])"
   ]
  },
  {
   "cell_type": "code",
   "execution_count": null,
   "id": "4d51119d",
   "metadata": {},
   "outputs": [],
   "source": [
    "data['transformations'][0]"
   ]
  },
  {
   "cell_type": "code",
   "execution_count": null,
   "id": "53a5f9c4",
   "metadata": {},
   "outputs": [],
   "source": [
    "np.sum(np.abs(data['positions'][0]))/3"
   ]
  },
  {
   "cell_type": "code",
   "execution_count": null,
   "id": "6205ea93",
   "metadata": {},
   "outputs": [],
   "source": [
    "np.asarray(pcd.points)"
   ]
  },
  {
   "cell_type": "code",
   "execution_count": 10,
   "id": "c5dedb7d",
   "metadata": {},
   "outputs": [],
   "source": [
    "pcds = []\n",
    "for i in range(100, 250):\n",
    "    pcd = o3d.geometry.PointCloud(o3d.utility.Vector3dVector(data['pcds'][i]))\n",
    "    pcd.paint_uniform_color([0.5, 0.5, 0.5])\n",
    "    pcds.append(pcd)\n",
    "o3d.visualization.draw_geometries(pcds)"
   ]
  },
  {
   "cell_type": "code",
   "execution_count": null,
   "id": "16a47d1b",
   "metadata": {},
   "outputs": [],
   "source": []
  },
  {
   "cell_type": "code",
   "execution_count": null,
   "id": "0da82c01",
   "metadata": {},
   "outputs": [],
   "source": [
    "from torch.utils.data import DataLoader\n",
    "dataset = full_pcd_dataset.FullPCDDataset(\"full_pcd_300000_samples.npz\")\n",
    "train_loader = DataLoader(dataset, batch_size=10, shuffle=True)"
   ]
  },
  {
   "cell_type": "code",
   "execution_count": null,
   "id": "7937f240",
   "metadata": {},
   "outputs": [],
   "source": [
    "from tqdm import tqdm\n",
    "progress_bar = tqdm(train_loader, desc=\"Training\")\n",
    "for batch in progress_bar:\n",
    "    print(batch[1])\n",
    "    pass"
   ]
  },
  {
   "cell_type": "code",
   "execution_count": null,
   "id": "07f2de45",
   "metadata": {},
   "outputs": [],
   "source": [
    "np.tan(np.pi/4)*3-0.25"
   ]
  }
 ],
 "metadata": {
  "kernelspec": {
   "display_name": "point_cloud",
   "language": "python",
   "name": "python3"
  },
  "language_info": {
   "codemirror_mode": {
    "name": "ipython",
    "version": 3
   },
   "file_extension": ".py",
   "mimetype": "text/x-python",
   "name": "python",
   "nbconvert_exporter": "python",
   "pygments_lexer": "ipython3",
   "version": "3.12.9"
  }
 },
 "nbformat": 4,
 "nbformat_minor": 5
}
