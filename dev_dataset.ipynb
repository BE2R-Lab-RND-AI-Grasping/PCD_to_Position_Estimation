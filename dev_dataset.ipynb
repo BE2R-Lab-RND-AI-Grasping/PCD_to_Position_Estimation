{
 "cells": [
  {
   "cell_type": "code",
   "execution_count": null,
   "id": "ed106520",
   "metadata": {},
   "outputs": [],
   "source": [
    "from src import full_pcd_dataset\n",
    "import importlib\n",
    "importlib.reload(full_pcd_dataset)\n",
    "\n",
    "data_creator = full_pcd_dataset.FullPCDDataCreator()"
   ]
  },
  {
   "cell_type": "code",
   "execution_count": null,
   "id": "dc93cf39",
   "metadata": {},
   "outputs": [],
   "source": [
    "from pathlib import Path\n",
    "import open3d as o3d\n",
    "\n",
    "model_dir = Path(\"./data/models\")\n",
    "model_list = list(model_dir.glob(\"*\"))\n",
    "model_list"
   ]
  },
  {
   "cell_type": "code",
   "execution_count": null,
   "id": "87a2bac7",
   "metadata": {},
   "outputs": [],
   "source": [
    "# for model_path in model_list:\n",
    "#     model = o3d.io.read_triangle_mesh(model_path)\n",
    "#     model.translate(-model.get_center())\n",
    "#     model.scale(1000, center=[0,0,0])\n",
    "#     o3d.io.write_triangle_mesh(model_path, model)\n",
    "    # aabb = model.get_axis_aligned_bounding_box()\n",
    "    # results = aabb.get_extent()\n",
    "\n",
    "\n"
   ]
  },
  {
   "cell_type": "code",
   "execution_count": null,
   "id": "e6722f32",
   "metadata": {},
   "outputs": [],
   "source": [
    "results = []\n",
    "for model_path in model_list:\n",
    "    model = o3d.io.read_triangle_mesh(model_path)\n",
    "    aabb = model.get_axis_aligned_bounding_box()\n",
    "    results.append(aabb.get_extent())\n",
    "\n",
    "results"
   ]
  },
  {
   "cell_type": "code",
   "execution_count": null,
   "id": "edd5778a",
   "metadata": {},
   "outputs": [],
   "source": [
    "data_creator.generate_data_6d(model_list,[\"combwrench\",  \"drill\", \"hammer\", \"screwdriver\",\"wrench\"], 100000)"
   ]
  },
  {
   "cell_type": "code",
   "execution_count": null,
   "id": "5b198a84",
   "metadata": {},
   "outputs": [],
   "source": [
    "0.4*100000/3600"
   ]
  },
  {
   "cell_type": "code",
   "execution_count": null,
   "id": "b749894f",
   "metadata": {},
   "outputs": [],
   "source": [
    "data_creator.generate_data_6d.\n"
   ]
  },
  {
   "cell_type": "code",
   "execution_count": null,
   "id": "f90ea5dd",
   "metadata": {},
   "outputs": [],
   "source": [
    "\n",
    "np.savez(f\"full_pcd_10000_samples.npz\", pcds=data_creator.pcd_array,\n",
    "                 transformations=data_creator.transformation_array, rotations_6d=data_creator.d6_rotations_array, positions=data_creator.position_array, classes=data_creator.class_array)"
   ]
  },
  {
   "cell_type": "code",
   "execution_count": null,
   "id": "43b3959b",
   "metadata": {},
   "outputs": [],
   "source": [
    "import numpy as np\n",
    "varray = np.asarray(model.vertices)\n",
    "z = varray[:,0]\n",
    "print(max(z), min(z), max(z) - min(z))\n"
   ]
  },
  {
   "cell_type": "code",
   "execution_count": null,
   "id": "6a8f33f0",
   "metadata": {},
   "outputs": [],
   "source": [
    "import numpy as np\n",
    "import open3d as o3d\n",
    "data = np.load(\"data/full_pcd_100000_samples_6d.npz\")\n",
    "\n",
    "pcd = o3d.geometry.PointCloud(o3d.utility.Vector3dVector(data['pcds'][0]))\n",
    "data"
   ]
  },
  {
   "cell_type": "code",
   "execution_count": null,
   "id": "4d51119d",
   "metadata": {},
   "outputs": [],
   "source": [
    "data['transformations'][0]"
   ]
  },
  {
   "cell_type": "code",
   "execution_count": null,
   "id": "53a5f9c4",
   "metadata": {},
   "outputs": [],
   "source": [
    "np.sum(np.abs(data['positions'][0]))/3"
   ]
  },
  {
   "cell_type": "code",
   "execution_count": null,
   "id": "6205ea93",
   "metadata": {},
   "outputs": [],
   "source": [
    "np.asarray(pcd.points)"
   ]
  },
  {
   "cell_type": "code",
   "execution_count": null,
   "id": "c5dedb7d",
   "metadata": {},
   "outputs": [],
   "source": [
    "pcds = []\n",
    "for i in range(100):\n",
    "    pcd = o3d.geometry.PointCloud(o3d.utility.Vector3dVector(data['pcds'][i]))\n",
    "    pcd.paint_uniform_color([0.5, 0.5, 0.5])\n",
    "    pcds.append(pcd)\n",
    "o3d.visualization.draw_geometries(pcds)"
   ]
  },
  {
   "cell_type": "code",
   "execution_count": null,
   "id": "16a47d1b",
   "metadata": {},
   "outputs": [],
   "source": []
  },
  {
   "cell_type": "code",
   "execution_count": null,
   "id": "0da82c01",
   "metadata": {},
   "outputs": [],
   "source": [
    "from torch.utils.data import DataLoader\n",
    "dataset = full_pcd_dataset.FullPCDDataset(\"full_pcd_30000_samples.npz\")\n",
    "train_loader = DataLoader(dataset, batch_size=10, shuffle=True)"
   ]
  },
  {
   "cell_type": "code",
   "execution_count": null,
   "id": "7937f240",
   "metadata": {},
   "outputs": [],
   "source": [
    "from tqdm import tqdm\n",
    "progress_bar = tqdm(train_loader, desc=\"Training\")\n",
    "for batch in progress_bar:\n",
    "    print(batch[1])\n",
    "    pass"
   ]
  },
  {
   "cell_type": "code",
   "execution_count": null,
   "id": "07f2de45",
   "metadata": {},
   "outputs": [],
   "source": [
    "np.tan(np.pi/4)*3-0.25"
   ]
  }
 ],
 "metadata": {
  "kernelspec": {
   "display_name": "point_cloud",
   "language": "python",
   "name": "python3"
  },
  "language_info": {
   "codemirror_mode": {
    "name": "ipython",
    "version": 3
   },
   "file_extension": ".py",
   "mimetype": "text/x-python",
   "name": "python",
   "nbconvert_exporter": "python",
   "pygments_lexer": "ipython3",
   "version": "3.12.9"
  }
 },
 "nbformat": 4,
 "nbformat_minor": 5
}
