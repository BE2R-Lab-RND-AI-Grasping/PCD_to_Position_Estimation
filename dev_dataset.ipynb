{
 "cells": [
  {
   "cell_type": "code",
   "execution_count": null,
   "id": "ed106520",
   "metadata": {},
   "outputs": [],
   "source": [
    "from src import full_pcd_dataset\n",
    "import importlib\n",
    "importlib.reload(full_pcd_dataset)\n",
    "\n",
    "data_creator = full_pcd_dataset.FullPCDDataCreator()"
   ]
  },
  {
   "cell_type": "code",
   "execution_count": null,
   "id": "dc93cf39",
   "metadata": {},
   "outputs": [],
   "source": [
    "from pathlib import Path\n",
    "import open3d as o3d\n",
    "\n",
    "model_dir = Path(\"./data/models\")\n",
    "model_list = list(model_dir.glob(\"*\"))\n",
    "model_list"
   ]
  },
  {
   "cell_type": "code",
   "execution_count": null,
   "id": "87a2bac7",
   "metadata": {},
   "outputs": [],
   "source": [
    "for model_path in model_list:\n",
    "    model = o3d.io.read_triangle_mesh(model_path)\n",
    "    model.translate(-model.get_center())\n",
    "    model.scale(0.001, center=[0,0,0])\n",
    "    o3d.io.write_triangle_mesh(model_path, model)\n",
    "    # aabb = model.get_axis_aligned_bounding_box()\n",
    "    # results = aabb.get_extent()\n",
    "\n",
    "\n"
   ]
  },
  {
   "cell_type": "code",
   "execution_count": null,
   "id": "e6722f32",
   "metadata": {},
   "outputs": [],
   "source": [
    "results = []\n",
    "for model_path in model_list:\n",
    "    model = o3d.io.read_triangle_mesh(model_path)\n",
    "    aabb = model.get_axis_aligned_bounding_box()\n",
    "    results.append(aabb.get_extent())\n",
    "\n",
    "results"
   ]
  },
  {
   "cell_type": "code",
   "execution_count": null,
   "id": "edd5778a",
   "metadata": {},
   "outputs": [],
   "source": [
    "data_creator.generate_data(model_list,[\"screwdriver\", \"drill\", \"hammer\", \"wrench\"], 100)"
   ]
  },
  {
   "cell_type": "code",
   "execution_count": null,
   "id": "43b3959b",
   "metadata": {},
   "outputs": [],
   "source": [
    "import numpy as np\n",
    "varray = np.asarray(model.vertices)\n",
    "z = varray[:,0]\n",
    "print(max(z), min(z), max(z) - min(z))\n"
   ]
  },
  {
   "cell_type": "code",
   "execution_count": null,
   "id": "6a8f33f0",
   "metadata": {},
   "outputs": [],
   "source": [
    "data = np.load(\"full_pcd_100_samples.npz\")\n",
    "\n",
    "pcd = o3d.geometry.PointCloud(o3d.utility.Vector3dVector(data['pcds'][0]))\n",
    "data"
   ]
  },
  {
   "cell_type": "code",
   "execution_count": null,
   "id": "c5dedb7d",
   "metadata": {},
   "outputs": [],
   "source": [
    "pcds = []\n",
    "for i in range(100):\n",
    "    pcd = o3d.geometry.PointCloud(o3d.utility.Vector3dVector(data['pcds'][i]))\n",
    "    pcds.append(pcd)\n",
    "o3d.visualization.draw_geometries(pcds)"
   ]
  },
  {
   "cell_type": "code",
   "execution_count": null,
   "id": "0da82c01",
   "metadata": {},
   "outputs": [],
   "source": [
    "from torch.utils.data import DataLoader\n",
    "dataset = full_pcd_dataset.FullPCDDataset(\"full_pcd_100_samples.npz\")\n",
    "train_loader = DataLoader(dataset, batch_size=10, shuffle=True)"
   ]
  },
  {
   "cell_type": "code",
   "execution_count": 49,
   "id": "7937f240",
   "metadata": {},
   "outputs": [
    {
     "name": "stderr",
     "output_type": "stream",
     "text": [
      "Training: 100%|██████████| 10/10 [00:00<00:00, 551.53it/s]"
     ]
    },
    {
     "name": "stdout",
     "output_type": "stream",
     "text": [
      "torch.Size([10, 4, 4])\n",
      "torch.Size([10, 4, 4])\n",
      "torch.Size([10, 4, 4])\n",
      "torch.Size([10, 4, 4])\n",
      "torch.Size([10, 4, 4])\n",
      "torch.Size([10, 4, 4])\n",
      "torch.Size([10, 4, 4])\n",
      "torch.Size([10, 4, 4])\n",
      "torch.Size([10, 4, 4])\n",
      "torch.Size([10, 4, 4])\n"
     ]
    },
    {
     "name": "stderr",
     "output_type": "stream",
     "text": [
      "\n"
     ]
    }
   ],
   "source": [
    "from tqdm import tqdm\n",
    "progress_bar = tqdm(train_loader, desc=\"Training\")\n",
    "for batch in progress_bar:\n",
    "    print(batch[1][1].shape)\n",
    "    pass"
   ]
  }
 ],
 "metadata": {
  "kernelspec": {
   "display_name": "point_cloud",
   "language": "python",
   "name": "python3"
  },
  "language_info": {
   "codemirror_mode": {
    "name": "ipython",
    "version": 3
   },
   "file_extension": ".py",
   "mimetype": "text/x-python",
   "name": "python",
   "nbconvert_exporter": "python",
   "pygments_lexer": "ipython3",
   "version": "3.9.21"
  }
 },
 "nbformat": 4,
 "nbformat_minor": 5
}
