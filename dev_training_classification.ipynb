{
 "cells": [
  {
   "cell_type": "code",
   "execution_count": 1,
   "id": "76319d14",
   "metadata": {},
   "outputs": [
    {
     "name": "stdout",
     "output_type": "stream",
     "text": [
      "Jupyter environment detected. Enabling Open3D WebVisualizer.\n",
      "[Open3D INFO] WebRTC GUI backend enabled.\n",
      "[Open3D INFO] WebRTCWindowSystem: HTTP handshake server disabled.\n"
     ]
    }
   ],
   "source": [
    "import torch \n",
    "from torch.utils.data import DataLoader\n",
    "from src import full_pcd_dataset\n",
    "import importlib\n",
    "importlib.reload(full_pcd_dataset)\n",
    "import json\n",
    "# Create dataset instance\n",
    "dataset = full_pcd_dataset.FullPCDDataset(\"data/full_pcd_200000_samples_6d.npz\")\n",
    "with open(\"data/label_dict.json\", \"r\") as f:\n",
    "    label_dict = json.load(f)\n",
    "num_classes = len(label_dict.keys())\n",
    "# Split into train and validation (example: 80-20 split)\n",
    "train_size = int(0.8 * len(dataset))\n",
    "val_size = len(dataset) - train_size\n",
    "train_dataset, val_dataset = torch.utils.data.random_split(dataset, [train_size, val_size])"
   ]
  },
  {
   "cell_type": "code",
   "execution_count": 2,
   "id": "965074fc",
   "metadata": {},
   "outputs": [
    {
     "data": {
      "text/plain": [
       "5"
      ]
     },
     "execution_count": 2,
     "metadata": {},
     "output_type": "execute_result"
    }
   ],
   "source": [
    "# Create data loaders\n",
    "batch_size = 128\n",
    "train_loader = DataLoader(train_dataset, batch_size=batch_size, shuffle=True, num_workers=0,pin_memory=True)\n",
    "val_loader = DataLoader(val_dataset, batch_size=batch_size, shuffle=False, num_workers=0,pin_memory=True)\n",
    "num_classes"
   ]
  },
  {
   "cell_type": "code",
   "execution_count": 3,
   "id": "cdb8fe3c",
   "metadata": {},
   "outputs": [],
   "source": [
    "from src.model_updated import PointNet2Classification \n",
    "from torch.optim.lr_scheduler import StepLR\n",
    "backbone_params = {\"sa_mlps\": [[32, 32, 64], [64, 128, 128]], \"mlp\":[128, 512, 1024], \"downsample_points\": [256, 64], \"radii\":[0.1, 0.15], \"ks\":[16, 32], \"add_xyz\":False}\n",
    "\n",
    "model = PointNet2Classification(num_classes, backbone_params=backbone_params, mlp=[512,128])\n",
    "optimizer = torch.optim.AdamW(model.parameters(), lr=1e-3, weight_decay=1e-4)\n",
    "scheduler = StepLR(optimizer, step_size=5, gamma=0.5) "
   ]
  },
  {
   "cell_type": "code",
   "execution_count": 4,
   "id": "9e7d430f",
   "metadata": {},
   "outputs": [
    {
     "name": "stdout",
     "output_type": "stream",
     "text": [
      "Number of parameters in the model: 1234853\n"
     ]
    }
   ],
   "source": [
    "from src.model_utils import count_parameters\n",
    "\n",
    "print(f\"Number of parameters in the model: {count_parameters(model)}\")"
   ]
  },
  {
   "cell_type": "code",
   "execution_count": 5,
   "id": "13eb60ec",
   "metadata": {},
   "outputs": [
    {
     "name": "stdout",
     "output_type": "stream",
     "text": [
      "Using device: cuda\n"
     ]
    }
   ],
   "source": [
    "from src.train_classificator import train_model\n",
    "device = torch.device(\"cuda\" if torch.cuda.is_available() else \"cpu\")\n",
    "print(f\"Using device: {device}\")"
   ]
  },
  {
   "cell_type": "code",
   "execution_count": 6,
   "id": "93a5de7e",
   "metadata": {},
   "outputs": [
    {
     "name": "stderr",
     "output_type": "stream",
     "text": [
      "Training: 100%|██████████| 1250/1250 [03:07<00:00,  6.67it/s]\n"
     ]
    },
    {
     "name": "stdout",
     "output_type": "stream",
     "text": [
      "Epoch 1/10 - Total Loss: 0.4268 | Accuracy: 81.01%\n"
     ]
    },
    {
     "name": "stderr",
     "output_type": "stream",
     "text": [
      "Validating: 100%|██████████| 313/313 [00:21<00:00, 14.54it/s]\n"
     ]
    },
    {
     "name": "stdout",
     "output_type": "stream",
     "text": [
      "Validation - Loss: 0.6142 | Accuracy: 77.01%\n"
     ]
    },
    {
     "name": "stderr",
     "output_type": "stream",
     "text": [
      "Training: 100%|██████████| 1250/1250 [03:13<00:00,  6.45it/s]\n"
     ]
    },
    {
     "name": "stdout",
     "output_type": "stream",
     "text": [
      "Epoch 2/10 - Total Loss: 0.2334 | Accuracy: 89.98%\n"
     ]
    },
    {
     "name": "stderr",
     "output_type": "stream",
     "text": [
      "Validating: 100%|██████████| 313/313 [00:25<00:00, 12.52it/s]\n"
     ]
    },
    {
     "name": "stdout",
     "output_type": "stream",
     "text": [
      "Validation - Loss: 0.1909 | Accuracy: 91.81%\n"
     ]
    },
    {
     "name": "stderr",
     "output_type": "stream",
     "text": [
      "Training: 100%|██████████| 1250/1250 [03:16<00:00,  6.35it/s]\n"
     ]
    },
    {
     "name": "stdout",
     "output_type": "stream",
     "text": [
      "Epoch 3/10 - Total Loss: 0.1684 | Accuracy: 93.04%\n"
     ]
    },
    {
     "name": "stderr",
     "output_type": "stream",
     "text": [
      "Validating: 100%|██████████| 313/313 [00:24<00:00, 12.68it/s]\n"
     ]
    },
    {
     "name": "stdout",
     "output_type": "stream",
     "text": [
      "Validation - Loss: 0.2055 | Accuracy: 92.41%\n"
     ]
    },
    {
     "name": "stderr",
     "output_type": "stream",
     "text": [
      "Training: 100%|██████████| 1250/1250 [03:17<00:00,  6.34it/s]\n"
     ]
    },
    {
     "name": "stdout",
     "output_type": "stream",
     "text": [
      "Epoch 4/10 - Total Loss: 0.1029 | Accuracy: 96.01%\n"
     ]
    },
    {
     "name": "stderr",
     "output_type": "stream",
     "text": [
      "Validating: 100%|██████████| 313/313 [00:23<00:00, 13.33it/s]\n"
     ]
    },
    {
     "name": "stdout",
     "output_type": "stream",
     "text": [
      "Validation - Loss: 0.0714 | Accuracy: 97.29%\n"
     ]
    },
    {
     "name": "stderr",
     "output_type": "stream",
     "text": [
      "Training: 100%|██████████| 1250/1250 [03:15<00:00,  6.39it/s]\n"
     ]
    },
    {
     "name": "stdout",
     "output_type": "stream",
     "text": [
      "Epoch 5/10 - Total Loss: 0.0659 | Accuracy: 97.52%\n"
     ]
    },
    {
     "name": "stderr",
     "output_type": "stream",
     "text": [
      "Validating: 100%|██████████| 313/313 [00:25<00:00, 12.46it/s]\n"
     ]
    },
    {
     "name": "stdout",
     "output_type": "stream",
     "text": [
      "Validation - Loss: 0.0556 | Accuracy: 97.91%\n"
     ]
    },
    {
     "name": "stderr",
     "output_type": "stream",
     "text": [
      "Training: 100%|██████████| 1250/1250 [03:16<00:00,  6.36it/s]\n"
     ]
    },
    {
     "name": "stdout",
     "output_type": "stream",
     "text": [
      "Epoch 6/10 - Total Loss: 0.0460 | Accuracy: 98.30%\n"
     ]
    },
    {
     "name": "stderr",
     "output_type": "stream",
     "text": [
      "Validating: 100%|██████████| 313/313 [00:24<00:00, 12.80it/s]\n"
     ]
    },
    {
     "name": "stdout",
     "output_type": "stream",
     "text": [
      "Validation - Loss: 0.0495 | Accuracy: 98.07%\n"
     ]
    },
    {
     "name": "stderr",
     "output_type": "stream",
     "text": [
      "Training: 100%|██████████| 1250/1250 [03:15<00:00,  6.38it/s]\n"
     ]
    },
    {
     "name": "stdout",
     "output_type": "stream",
     "text": [
      "Epoch 7/10 - Total Loss: 0.0336 | Accuracy: 98.79%\n"
     ]
    },
    {
     "name": "stderr",
     "output_type": "stream",
     "text": [
      "Validating: 100%|██████████| 313/313 [00:25<00:00, 12.49it/s]\n"
     ]
    },
    {
     "name": "stdout",
     "output_type": "stream",
     "text": [
      "Validation - Loss: 0.0736 | Accuracy: 97.43%\n"
     ]
    },
    {
     "name": "stderr",
     "output_type": "stream",
     "text": [
      "Training: 100%|██████████| 1250/1250 [03:16<00:00,  6.35it/s]\n"
     ]
    },
    {
     "name": "stdout",
     "output_type": "stream",
     "text": [
      "Epoch 8/10 - Total Loss: 0.0250 | Accuracy: 99.11%\n"
     ]
    },
    {
     "name": "stderr",
     "output_type": "stream",
     "text": [
      "Validating: 100%|██████████| 313/313 [00:24<00:00, 12.73it/s]\n"
     ]
    },
    {
     "name": "stdout",
     "output_type": "stream",
     "text": [
      "Validation - Loss: 0.0199 | Accuracy: 99.30%\n"
     ]
    },
    {
     "name": "stderr",
     "output_type": "stream",
     "text": [
      "Training: 100%|██████████| 1250/1250 [03:16<00:00,  6.35it/s]\n"
     ]
    },
    {
     "name": "stdout",
     "output_type": "stream",
     "text": [
      "Epoch 9/10 - Total Loss: 0.0212 | Accuracy: 99.24%\n"
     ]
    },
    {
     "name": "stderr",
     "output_type": "stream",
     "text": [
      "Validating: 100%|██████████| 313/313 [00:24<00:00, 12.75it/s]\n"
     ]
    },
    {
     "name": "stdout",
     "output_type": "stream",
     "text": [
      "Validation - Loss: 0.0173 | Accuracy: 99.38%\n"
     ]
    },
    {
     "name": "stderr",
     "output_type": "stream",
     "text": [
      "Training: 100%|██████████| 1250/1250 [03:16<00:00,  6.35it/s]\n"
     ]
    },
    {
     "name": "stdout",
     "output_type": "stream",
     "text": [
      "Epoch 10/10 - Total Loss: 0.0161 | Accuracy: 99.44%\n"
     ]
    },
    {
     "name": "stderr",
     "output_type": "stream",
     "text": [
      "Validating: 100%|██████████| 313/313 [00:25<00:00, 12.45it/s]"
     ]
    },
    {
     "name": "stdout",
     "output_type": "stream",
     "text": [
      "Validation - Loss: 0.0172 | Accuracy: 99.39%\n"
     ]
    },
    {
     "name": "stderr",
     "output_type": "stream",
     "text": [
      "\n"
     ]
    }
   ],
   "source": [
    "train_model(model, train_loader, val_loader, optimizer, scheduler, device, epochs=10, directory=\"cls_final_smaller_hammers_5\")"
   ]
  },
  {
   "cell_type": "code",
   "execution_count": 7,
   "id": "ab40dbf7",
   "metadata": {},
   "outputs": [
    {
     "name": "stdout",
     "output_type": "stream",
     "text": [
      "backbone.sa1.conv.0.0.weight: torch.Size([16, 3, 1, 1])\n",
      "backbone.sa1.conv.0.1.weight: torch.Size([16])\n",
      "backbone.sa1.conv.0.1.bias: torch.Size([16])\n",
      "backbone.sa1.conv.0.1.running_mean: torch.Size([16])\n",
      "backbone.sa1.conv.0.1.running_var: torch.Size([16])\n",
      "backbone.sa1.conv.0.1.num_batches_tracked: torch.Size([])\n",
      "backbone.sa1.conv.1.0.weight: torch.Size([16, 16, 1, 1])\n",
      "backbone.sa1.conv.1.1.weight: torch.Size([16])\n",
      "backbone.sa1.conv.1.1.bias: torch.Size([16])\n",
      "backbone.sa1.conv.1.1.running_mean: torch.Size([16])\n",
      "backbone.sa1.conv.1.1.running_var: torch.Size([16])\n",
      "backbone.sa1.conv.1.1.num_batches_tracked: torch.Size([])\n",
      "backbone.sa1.conv.2.weight: torch.Size([16, 16, 1, 1])\n",
      "backbone.sa1.last_norm.weight: torch.Size([16])\n",
      "backbone.sa1.last_norm.bias: torch.Size([16])\n",
      "backbone.sa1.last_norm.running_mean: torch.Size([16])\n",
      "backbone.sa1.last_norm.running_var: torch.Size([16])\n",
      "backbone.sa1.last_norm.num_batches_tracked: torch.Size([])\n",
      "backbone.sa2.conv.0.0.weight: torch.Size([16, 19, 1, 1])\n",
      "backbone.sa2.conv.0.1.weight: torch.Size([16])\n",
      "backbone.sa2.conv.0.1.bias: torch.Size([16])\n",
      "backbone.sa2.conv.0.1.running_mean: torch.Size([16])\n",
      "backbone.sa2.conv.0.1.running_var: torch.Size([16])\n",
      "backbone.sa2.conv.0.1.num_batches_tracked: torch.Size([])\n",
      "backbone.sa2.conv.1.0.weight: torch.Size([16, 16, 1, 1])\n",
      "backbone.sa2.conv.1.1.weight: torch.Size([16])\n",
      "backbone.sa2.conv.1.1.bias: torch.Size([16])\n",
      "backbone.sa2.conv.1.1.running_mean: torch.Size([16])\n",
      "backbone.sa2.conv.1.1.running_var: torch.Size([16])\n",
      "backbone.sa2.conv.1.1.num_batches_tracked: torch.Size([])\n",
      "backbone.sa2.conv.2.weight: torch.Size([16, 16, 1, 1])\n",
      "backbone.sa2.last_norm.weight: torch.Size([16])\n",
      "backbone.sa2.last_norm.bias: torch.Size([16])\n",
      "backbone.sa2.last_norm.running_mean: torch.Size([16])\n",
      "backbone.sa2.last_norm.running_var: torch.Size([16])\n",
      "backbone.sa2.last_norm.num_batches_tracked: torch.Size([])\n",
      "backbone.global_sa.0.weight: torch.Size([16, 16, 1])\n",
      "backbone.global_sa.1.weight: torch.Size([16])\n",
      "backbone.global_sa.1.bias: torch.Size([16])\n",
      "backbone.global_sa.1.running_mean: torch.Size([16])\n",
      "backbone.global_sa.1.running_var: torch.Size([16])\n",
      "backbone.global_sa.1.num_batches_tracked: torch.Size([])\n",
      "backbone.global_sa.3.weight: torch.Size([16, 16, 1])\n",
      "backbone.global_sa.4.weight: torch.Size([16])\n",
      "backbone.global_sa.4.bias: torch.Size([16])\n",
      "backbone.global_sa.4.running_mean: torch.Size([16])\n",
      "backbone.global_sa.4.running_var: torch.Size([16])\n",
      "backbone.global_sa.4.num_batches_tracked: torch.Size([])\n",
      "backbone.global_sa.6.weight: torch.Size([16, 16, 1])\n",
      "norm.weight: torch.Size([16])\n",
      "norm.bias: torch.Size([16])\n",
      "norm.running_mean: torch.Size([16])\n",
      "norm.running_var: torch.Size([16])\n",
      "norm.num_batches_tracked: torch.Size([])\n",
      "classification_head.0.weight: torch.Size([32, 16])\n",
      "classification_head.0.bias: torch.Size([32])\n",
      "classification_head.1.weight: torch.Size([32])\n",
      "classification_head.1.bias: torch.Size([32])\n",
      "classification_head.1.running_mean: torch.Size([32])\n",
      "classification_head.1.running_var: torch.Size([32])\n",
      "classification_head.1.num_batches_tracked: torch.Size([])\n",
      "classification_head.4.weight: torch.Size([32, 32])\n",
      "classification_head.4.bias: torch.Size([32])\n",
      "classification_head.5.weight: torch.Size([32])\n",
      "classification_head.5.bias: torch.Size([32])\n",
      "classification_head.5.running_mean: torch.Size([32])\n",
      "classification_head.5.running_var: torch.Size([32])\n",
      "classification_head.5.num_batches_tracked: torch.Size([])\n",
      "classification_head.8.weight: torch.Size([5, 32])\n",
      "classification_head.8.bias: torch.Size([5])\n"
     ]
    }
   ],
   "source": [
    "checkpoint = torch.load('cls_final_smaller_hammers_2/checkpoint_epoch_10.pth', map_location='cpu')  # Load on CPU to avoid GPU memory issues\n",
    "saved_state_dict = checkpoint['model_state']\n",
    "\n",
    "# Print layer names and their shapes\n",
    "for name, param in saved_state_dict.items():\n",
    "    print(f\"{name}: {param.shape}\")"
   ]
  }
 ],
 "metadata": {
  "kernelspec": {
   "display_name": "point_cloud",
   "language": "python",
   "name": "python3"
  },
  "language_info": {
   "codemirror_mode": {
    "name": "ipython",
    "version": 3
   },
   "file_extension": ".py",
   "mimetype": "text/x-python",
   "name": "python",
   "nbconvert_exporter": "python",
   "pygments_lexer": "ipython3",
   "version": "3.12.9"
  }
 },
 "nbformat": 4,
 "nbformat_minor": 5
}
