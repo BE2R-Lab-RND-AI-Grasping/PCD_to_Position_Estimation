{
 "cells": [
  {
   "cell_type": "code",
   "execution_count": 1,
   "id": "76319d14",
   "metadata": {},
   "outputs": [
    {
     "name": "stdout",
     "output_type": "stream",
     "text": [
      "Jupyter environment detected. Enabling Open3D WebVisualizer.\n",
      "[Open3D INFO] WebRTC GUI backend enabled.\n",
      "[Open3D INFO] WebRTCWindowSystem: HTTP handshake server disabled.\n"
     ]
    }
   ],
   "source": [
    "import torch \n",
    "from torch.utils.data import DataLoader\n",
    "from src import full_pcd_dataset\n",
    "import importlib\n",
    "importlib.reload(full_pcd_dataset)\n",
    "import json\n",
    "# Create dataset instance\n",
    "dataset = full_pcd_dataset.FullPCDDataset(\"data/full_pcd_150000_samples_6d_1.npz\")\n",
    "with open(\"data/label_dict.json\", \"r\") as f:\n",
    "    label_dict = json.load(f)\n",
    "num_classes = len(label_dict.keys())\n",
    "# Split into train and validation (example: 80-20 split)\n",
    "train_size = int(0.8 * len(dataset))\n",
    "val_size = len(dataset) - train_size\n",
    "train_dataset, val_dataset = torch.utils.data.random_split(dataset, [train_size, val_size])\n",
    "\n"
   ]
  },
  {
   "cell_type": "code",
   "execution_count": 2,
   "id": "965074fc",
   "metadata": {},
   "outputs": [
    {
     "data": {
      "text/plain": [
       "5"
      ]
     },
     "execution_count": 2,
     "metadata": {},
     "output_type": "execute_result"
    }
   ],
   "source": [
    "# Create data loaders\n",
    "batch_size = 128\n",
    "train_loader = DataLoader(train_dataset, batch_size=batch_size, shuffle=True, num_workers=0,pin_memory=True)\n",
    "val_loader = DataLoader(val_dataset, batch_size=batch_size, shuffle=False, num_workers=0,pin_memory=True)\n",
    "num_classes"
   ]
  },
  {
   "cell_type": "code",
   "execution_count": 3,
   "id": "cdb8fe3c",
   "metadata": {},
   "outputs": [],
   "source": [
    "from src.model_updated import PointNet2Classification \n",
    "from torch.optim.lr_scheduler import StepLR\n",
    "backbone_params = {\"sa_mlps\": [[2, 2, 2], [2, 2, 2]], \"mlp\":[64, 128, 256], \"downsample_points\": [256, 64], \"radii\":[0.1, 0.15], \"ks\":[16, 32], \"add_xyz\":True}\n",
    "\n",
    "model = PointNet2Classification(num_classes, backbone_params=backbone_params)\n",
    "optimizer = torch.optim.AdamW(model.parameters(), lr=1e-3, weight_decay=1e-4)\n",
    "scheduler = StepLR(optimizer, step_size=5, gamma=0.5) "
   ]
  },
  {
   "cell_type": "code",
   "execution_count": null,
   "id": "7880c494",
   "metadata": {},
   "outputs": [],
   "source": []
  },
  {
   "cell_type": "code",
   "execution_count": 4,
   "id": "9e7d430f",
   "metadata": {},
   "outputs": [
    {
     "name": "stdout",
     "output_type": "stream",
     "text": [
      "Number of parameters in the model: 61001\n"
     ]
    }
   ],
   "source": [
    "from src.model_utils import count_parameters\n",
    "\n",
    "print(f\"Number of parameters in the model: {count_parameters(model)}\")"
   ]
  },
  {
   "cell_type": "code",
   "execution_count": 5,
   "id": "13eb60ec",
   "metadata": {},
   "outputs": [
    {
     "name": "stderr",
     "output_type": "stream",
     "text": [
      "2025-05-26 15:22:55.254944: E external/local_xla/xla/stream_executor/cuda/cuda_fft.cc:467] Unable to register cuFFT factory: Attempting to register factory for plugin cuFFT when one has already been registered\n",
      "WARNING: All log messages before absl::InitializeLog() is called are written to STDERR\n",
      "E0000 00:00:1748262175.275570   15827 cuda_dnn.cc:8579] Unable to register cuDNN factory: Attempting to register factory for plugin cuDNN when one has already been registered\n",
      "E0000 00:00:1748262175.281326   15827 cuda_blas.cc:1407] Unable to register cuBLAS factory: Attempting to register factory for plugin cuBLAS when one has already been registered\n",
      "W0000 00:00:1748262175.297758   15827 computation_placer.cc:177] computation placer already registered. Please check linkage and avoid linking the same target more than once.\n",
      "W0000 00:00:1748262175.297781   15827 computation_placer.cc:177] computation placer already registered. Please check linkage and avoid linking the same target more than once.\n",
      "W0000 00:00:1748262175.297783   15827 computation_placer.cc:177] computation placer already registered. Please check linkage and avoid linking the same target more than once.\n",
      "W0000 00:00:1748262175.297785   15827 computation_placer.cc:177] computation placer already registered. Please check linkage and avoid linking the same target more than once.\n",
      "2025-05-26 15:22:55.302516: I tensorflow/core/platform/cpu_feature_guard.cc:210] This TensorFlow binary is optimized to use available CPU instructions in performance-critical operations.\n",
      "To enable the following instructions: AVX2 FMA, in other operations, rebuild TensorFlow with the appropriate compiler flags.\n"
     ]
    },
    {
     "name": "stdout",
     "output_type": "stream",
     "text": [
      "Using device: cuda\n"
     ]
    }
   ],
   "source": [
    "from src.train_classificator import train_model\n",
    "device = torch.device(\"cuda\" if torch.cuda.is_available() else \"cpu\")\n",
    "print(f\"Using device: {device}\")"
   ]
  },
  {
   "cell_type": "code",
   "execution_count": 6,
   "id": "93a5de7e",
   "metadata": {},
   "outputs": [
    {
     "name": "stderr",
     "output_type": "stream",
     "text": [
      "Training: 100%|██████████| 938/938 [02:52<00:00,  5.45it/s]\n"
     ]
    },
    {
     "name": "stdout",
     "output_type": "stream",
     "text": [
      "Epoch 1/100 - Total Loss: 1.1026 | Accuracy: 45.06%\n"
     ]
    },
    {
     "name": "stderr",
     "output_type": "stream",
     "text": [
      "Validating: 100%|██████████| 235/235 [00:38<00:00,  6.08it/s]\n"
     ]
    },
    {
     "name": "stdout",
     "output_type": "stream",
     "text": [
      "Validation - Loss: 0.8053 | Accuracy: 55.45%\n"
     ]
    },
    {
     "name": "stderr",
     "output_type": "stream",
     "text": [
      "Training: 100%|██████████| 938/938 [02:51<00:00,  5.46it/s]\n"
     ]
    },
    {
     "name": "stdout",
     "output_type": "stream",
     "text": [
      "Epoch 2/100 - Total Loss: 0.8222 | Accuracy: 56.17%\n"
     ]
    },
    {
     "name": "stderr",
     "output_type": "stream",
     "text": [
      "Validating: 100%|██████████| 235/235 [00:38<00:00,  6.05it/s]\n"
     ]
    },
    {
     "name": "stdout",
     "output_type": "stream",
     "text": [
      "Validation - Loss: 0.6670 | Accuracy: 64.51%\n"
     ]
    },
    {
     "name": "stderr",
     "output_type": "stream",
     "text": [
      "Training: 100%|██████████| 938/938 [02:51<00:00,  5.47it/s]\n"
     ]
    },
    {
     "name": "stdout",
     "output_type": "stream",
     "text": [
      "Epoch 3/100 - Total Loss: 0.7391 | Accuracy: 59.60%\n"
     ]
    },
    {
     "name": "stderr",
     "output_type": "stream",
     "text": [
      "Validating: 100%|██████████| 235/235 [00:38<00:00,  6.09it/s]\n"
     ]
    },
    {
     "name": "stdout",
     "output_type": "stream",
     "text": [
      "Validation - Loss: 0.8460 | Accuracy: 55.19%\n"
     ]
    },
    {
     "name": "stderr",
     "output_type": "stream",
     "text": [
      "Training: 100%|██████████| 938/938 [02:52<00:00,  5.45it/s]\n"
     ]
    },
    {
     "name": "stdout",
     "output_type": "stream",
     "text": [
      "Epoch 4/100 - Total Loss: 0.7034 | Accuracy: 60.89%\n"
     ]
    },
    {
     "name": "stderr",
     "output_type": "stream",
     "text": [
      "Validating: 100%|██████████| 235/235 [00:38<00:00,  6.06it/s]\n"
     ]
    },
    {
     "name": "stdout",
     "output_type": "stream",
     "text": [
      "Validation - Loss: 0.6368 | Accuracy: 63.86%\n"
     ]
    },
    {
     "name": "stderr",
     "output_type": "stream",
     "text": [
      "Training: 100%|██████████| 938/938 [02:47<00:00,  5.61it/s]\n"
     ]
    },
    {
     "name": "stdout",
     "output_type": "stream",
     "text": [
      "Epoch 5/100 - Total Loss: 0.6713 | Accuracy: 62.37%\n"
     ]
    },
    {
     "name": "stderr",
     "output_type": "stream",
     "text": [
      "Validating: 100%|██████████| 235/235 [00:36<00:00,  6.37it/s]\n"
     ]
    },
    {
     "name": "stdout",
     "output_type": "stream",
     "text": [
      "Validation - Loss: 0.5921 | Accuracy: 64.52%\n"
     ]
    },
    {
     "name": "stderr",
     "output_type": "stream",
     "text": [
      "Training: 100%|██████████| 938/938 [02:43<00:00,  5.75it/s]\n"
     ]
    },
    {
     "name": "stdout",
     "output_type": "stream",
     "text": [
      "Epoch 6/100 - Total Loss: 0.6449 | Accuracy: 63.83%\n"
     ]
    },
    {
     "name": "stderr",
     "output_type": "stream",
     "text": [
      "Validating: 100%|██████████| 235/235 [00:36<00:00,  6.39it/s]\n"
     ]
    },
    {
     "name": "stdout",
     "output_type": "stream",
     "text": [
      "Validation - Loss: 0.5502 | Accuracy: 67.74%\n"
     ]
    },
    {
     "name": "stderr",
     "output_type": "stream",
     "text": [
      "Training: 100%|██████████| 938/938 [02:46<00:00,  5.63it/s]\n"
     ]
    },
    {
     "name": "stdout",
     "output_type": "stream",
     "text": [
      "Epoch 7/100 - Total Loss: 0.6290 | Accuracy: 64.50%\n"
     ]
    },
    {
     "name": "stderr",
     "output_type": "stream",
     "text": [
      "Validating: 100%|██████████| 235/235 [00:38<00:00,  6.12it/s]\n"
     ]
    },
    {
     "name": "stdout",
     "output_type": "stream",
     "text": [
      "Validation - Loss: 0.5669 | Accuracy: 67.48%\n"
     ]
    },
    {
     "name": "stderr",
     "output_type": "stream",
     "text": [
      "Training: 100%|██████████| 938/938 [02:51<00:00,  5.48it/s]\n"
     ]
    },
    {
     "name": "stdout",
     "output_type": "stream",
     "text": [
      "Epoch 8/100 - Total Loss: 0.6197 | Accuracy: 64.86%\n"
     ]
    },
    {
     "name": "stderr",
     "output_type": "stream",
     "text": [
      "Validating: 100%|██████████| 235/235 [00:38<00:00,  6.08it/s]\n"
     ]
    },
    {
     "name": "stdout",
     "output_type": "stream",
     "text": [
      "Validation - Loss: 0.5453 | Accuracy: 68.32%\n"
     ]
    },
    {
     "name": "stderr",
     "output_type": "stream",
     "text": [
      "Training: 100%|██████████| 938/938 [02:51<00:00,  5.47it/s]\n"
     ]
    },
    {
     "name": "stdout",
     "output_type": "stream",
     "text": [
      "Epoch 9/100 - Total Loss: 0.6056 | Accuracy: 65.78%\n"
     ]
    },
    {
     "name": "stderr",
     "output_type": "stream",
     "text": [
      "Validating: 100%|██████████| 235/235 [00:38<00:00,  6.05it/s]\n"
     ]
    },
    {
     "name": "stdout",
     "output_type": "stream",
     "text": [
      "Validation - Loss: 0.5238 | Accuracy: 70.72%\n"
     ]
    },
    {
     "name": "stderr",
     "output_type": "stream",
     "text": [
      "Training: 100%|██████████| 938/938 [02:51<00:00,  5.47it/s]\n"
     ]
    },
    {
     "name": "stdout",
     "output_type": "stream",
     "text": [
      "Epoch 10/100 - Total Loss: 0.5943 | Accuracy: 66.21%\n"
     ]
    },
    {
     "name": "stderr",
     "output_type": "stream",
     "text": [
      "Validating: 100%|██████████| 235/235 [00:38<00:00,  6.08it/s]\n"
     ]
    },
    {
     "name": "stdout",
     "output_type": "stream",
     "text": [
      "Validation - Loss: 0.5803 | Accuracy: 65.52%\n"
     ]
    },
    {
     "name": "stderr",
     "output_type": "stream",
     "text": [
      "Training: 100%|██████████| 938/938 [02:52<00:00,  5.44it/s]\n"
     ]
    },
    {
     "name": "stdout",
     "output_type": "stream",
     "text": [
      "Epoch 11/100 - Total Loss: 0.5859 | Accuracy: 66.62%\n"
     ]
    },
    {
     "name": "stderr",
     "output_type": "stream",
     "text": [
      "Validating: 100%|██████████| 235/235 [00:39<00:00,  6.02it/s]\n"
     ]
    },
    {
     "name": "stdout",
     "output_type": "stream",
     "text": [
      "Validation - Loss: 0.5428 | Accuracy: 69.10%\n"
     ]
    },
    {
     "name": "stderr",
     "output_type": "stream",
     "text": [
      "Training:   4%|▍         | 39/938 [00:07<02:51,  5.23it/s]\n"
     ]
    },
    {
     "ename": "KeyboardInterrupt",
     "evalue": "",
     "output_type": "error",
     "traceback": [
      "\u001b[0;31m---------------------------------------------------------------------------\u001b[0m",
      "\u001b[0;31mKeyboardInterrupt\u001b[0m                         Traceback (most recent call last)",
      "Cell \u001b[0;32mIn[6], line 1\u001b[0m\n\u001b[0;32m----> 1\u001b[0m \u001b[43mtrain_model\u001b[49m\u001b[43m(\u001b[49m\u001b[43mmodel\u001b[49m\u001b[43m,\u001b[49m\u001b[43m \u001b[49m\u001b[43mtrain_loader\u001b[49m\u001b[43m,\u001b[49m\u001b[43m \u001b[49m\u001b[43mval_loader\u001b[49m\u001b[43m,\u001b[49m\u001b[43m \u001b[49m\u001b[43moptimizer\u001b[49m\u001b[43m,\u001b[49m\u001b[43m \u001b[49m\u001b[43mscheduler\u001b[49m\u001b[43m,\u001b[49m\u001b[43m \u001b[49m\u001b[43mdevice\u001b[49m\u001b[43m,\u001b[49m\u001b[43m \u001b[49m\u001b[43mepochs\u001b[49m\u001b[38;5;241;43m=\u001b[39;49m\u001b[38;5;241;43m100\u001b[39;49m\u001b[43m,\u001b[49m\u001b[43m \u001b[49m\u001b[43mdirectory\u001b[49m\u001b[38;5;241;43m=\u001b[39;49m\u001b[38;5;124;43m\"\u001b[39;49m\u001b[38;5;124;43mcls_updated_vsmall_new_data_2\u001b[39;49m\u001b[38;5;124;43m\"\u001b[39;49m\u001b[43m)\u001b[49m\n",
      "File \u001b[0;32m~/Python/functional_grasp/PCD_to_Position_Estimation/src/train_classificator.py:68\u001b[0m, in \u001b[0;36mtrain_model\u001b[0;34m(model, train_loader, val_loader, optimizer, scheduler, device, epochs, directory)\u001b[0m\n\u001b[1;32m     66\u001b[0m cls_loss\u001b[38;5;241m.\u001b[39mbackward()\n\u001b[1;32m     67\u001b[0m optimizer\u001b[38;5;241m.\u001b[39mstep()\n\u001b[0;32m---> 68\u001b[0m total_loss \u001b[38;5;241m+\u001b[39m\u001b[38;5;241m=\u001b[39m \u001b[43mcls_loss\u001b[49m\u001b[38;5;241;43m.\u001b[39;49m\u001b[43mitem\u001b[49m\u001b[43m(\u001b[49m\u001b[43m)\u001b[49m \u001b[38;5;241m*\u001b[39m batch_size\n\u001b[1;32m     70\u001b[0m preds \u001b[38;5;241m=\u001b[39m class_logits\u001b[38;5;241m.\u001b[39margmax(dim\u001b[38;5;241m=\u001b[39m\u001b[38;5;241m1\u001b[39m)\n\u001b[1;32m     71\u001b[0m correct \u001b[38;5;241m+\u001b[39m\u001b[38;5;241m=\u001b[39m (preds \u001b[38;5;241m==\u001b[39m class_labels)\u001b[38;5;241m.\u001b[39msum()\u001b[38;5;241m.\u001b[39mitem()\n",
      "\u001b[0;31mKeyboardInterrupt\u001b[0m: "
     ]
    }
   ],
   "source": [
    "train_model(model, train_loader, val_loader, optimizer, scheduler, device, epochs=100, directory=\"cls_updated_vsmall_new_data_2\")"
   ]
  },
  {
   "cell_type": "code",
   "execution_count": 7,
   "id": "ab40dbf7",
   "metadata": {},
   "outputs": [
    {
     "name": "stdout",
     "output_type": "stream",
     "text": [
      "backbone.sa1.conv.0.0.weight: torch.Size([16, 3, 1, 1])\n",
      "backbone.sa1.conv.0.1.weight: torch.Size([16])\n",
      "backbone.sa1.conv.0.1.bias: torch.Size([16])\n",
      "backbone.sa1.conv.0.1.running_mean: torch.Size([16])\n",
      "backbone.sa1.conv.0.1.running_var: torch.Size([16])\n",
      "backbone.sa1.conv.0.1.num_batches_tracked: torch.Size([])\n",
      "backbone.sa1.conv.1.0.weight: torch.Size([16, 16, 1, 1])\n",
      "backbone.sa1.conv.1.1.weight: torch.Size([16])\n",
      "backbone.sa1.conv.1.1.bias: torch.Size([16])\n",
      "backbone.sa1.conv.1.1.running_mean: torch.Size([16])\n",
      "backbone.sa1.conv.1.1.running_var: torch.Size([16])\n",
      "backbone.sa1.conv.1.1.num_batches_tracked: torch.Size([])\n",
      "backbone.sa1.conv.2.weight: torch.Size([16, 16, 1, 1])\n",
      "backbone.sa1.last_norm.weight: torch.Size([16])\n",
      "backbone.sa1.last_norm.bias: torch.Size([16])\n",
      "backbone.sa1.last_norm.running_mean: torch.Size([16])\n",
      "backbone.sa1.last_norm.running_var: torch.Size([16])\n",
      "backbone.sa1.last_norm.num_batches_tracked: torch.Size([])\n",
      "backbone.sa2.conv.0.0.weight: torch.Size([16, 19, 1, 1])\n",
      "backbone.sa2.conv.0.1.weight: torch.Size([16])\n",
      "backbone.sa2.conv.0.1.bias: torch.Size([16])\n",
      "backbone.sa2.conv.0.1.running_mean: torch.Size([16])\n",
      "backbone.sa2.conv.0.1.running_var: torch.Size([16])\n",
      "backbone.sa2.conv.0.1.num_batches_tracked: torch.Size([])\n",
      "backbone.sa2.conv.1.0.weight: torch.Size([32, 16, 1, 1])\n",
      "backbone.sa2.conv.1.1.weight: torch.Size([32])\n",
      "backbone.sa2.conv.1.1.bias: torch.Size([32])\n",
      "backbone.sa2.conv.1.1.running_mean: torch.Size([32])\n",
      "backbone.sa2.conv.1.1.running_var: torch.Size([32])\n",
      "backbone.sa2.conv.1.1.num_batches_tracked: torch.Size([])\n",
      "backbone.sa2.conv.2.weight: torch.Size([32, 32, 1, 1])\n",
      "backbone.sa2.last_norm.weight: torch.Size([32])\n",
      "backbone.sa2.last_norm.bias: torch.Size([32])\n",
      "backbone.sa2.last_norm.running_mean: torch.Size([32])\n",
      "backbone.sa2.last_norm.running_var: torch.Size([32])\n",
      "backbone.sa2.last_norm.num_batches_tracked: torch.Size([])\n",
      "backbone.global_sa.0.weight: torch.Size([64, 32, 1])\n",
      "backbone.global_sa.1.weight: torch.Size([64])\n",
      "backbone.global_sa.1.bias: torch.Size([64])\n",
      "backbone.global_sa.1.running_mean: torch.Size([64])\n",
      "backbone.global_sa.1.running_var: torch.Size([64])\n",
      "backbone.global_sa.1.num_batches_tracked: torch.Size([])\n",
      "backbone.global_sa.3.weight: torch.Size([128, 64, 1])\n",
      "backbone.global_sa.4.weight: torch.Size([128])\n",
      "backbone.global_sa.4.bias: torch.Size([128])\n",
      "backbone.global_sa.4.running_mean: torch.Size([128])\n",
      "backbone.global_sa.4.running_var: torch.Size([128])\n",
      "backbone.global_sa.4.num_batches_tracked: torch.Size([])\n",
      "backbone.global_sa.6.weight: torch.Size([128, 128, 1])\n",
      "norm.weight: torch.Size([128])\n",
      "norm.bias: torch.Size([128])\n",
      "norm.running_mean: torch.Size([128])\n",
      "norm.running_var: torch.Size([128])\n",
      "norm.num_batches_tracked: torch.Size([])\n",
      "classification_head.0.weight: torch.Size([64, 128])\n",
      "classification_head.0.bias: torch.Size([64])\n",
      "classification_head.1.weight: torch.Size([64])\n",
      "classification_head.1.bias: torch.Size([64])\n",
      "classification_head.1.running_mean: torch.Size([64])\n",
      "classification_head.1.running_var: torch.Size([64])\n",
      "classification_head.1.num_batches_tracked: torch.Size([])\n",
      "classification_head.4.weight: torch.Size([32, 64])\n",
      "classification_head.4.bias: torch.Size([32])\n",
      "classification_head.5.weight: torch.Size([32])\n",
      "classification_head.5.bias: torch.Size([32])\n",
      "classification_head.5.running_mean: torch.Size([32])\n",
      "classification_head.5.running_var: torch.Size([32])\n",
      "classification_head.5.num_batches_tracked: torch.Size([])\n",
      "classification_head.8.weight: torch.Size([5, 32])\n",
      "classification_head.8.bias: torch.Size([5])\n"
     ]
    }
   ],
   "source": [
    "checkpoint = torch.load('cls_updated_vsmall_new_data_1/checkpoint_epoch_10.pth', map_location='cpu')  # Load on CPU to avoid GPU memory issues\n",
    "saved_state_dict = checkpoint['model_state']\n",
    "\n",
    "# Print layer names and their shapes\n",
    "for name, param in saved_state_dict.items():\n",
    "    print(f\"{name}: {param.shape}\")"
   ]
  }
 ],
 "metadata": {
  "kernelspec": {
   "display_name": "point_cloud",
   "language": "python",
   "name": "python3"
  },
  "language_info": {
   "codemirror_mode": {
    "name": "ipython",
    "version": 3
   },
   "file_extension": ".py",
   "mimetype": "text/x-python",
   "name": "python",
   "nbconvert_exporter": "python",
   "pygments_lexer": "ipython3",
   "version": "3.9.21"
  }
 },
 "nbformat": 4,
 "nbformat_minor": 5
}
